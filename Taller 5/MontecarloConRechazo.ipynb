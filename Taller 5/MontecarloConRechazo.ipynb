{
 "cells": [
  {
   "cell_type": "code",
   "execution_count": 2,
   "metadata": {},
   "outputs": [],
   "source": [
    "%matplotlib notebook\n",
    "import matplotlib.pyplot as plt\n",
    "import numpy as np\n",
    "import sympy as sym"
   ]
  },
  {
   "cell_type": "code",
   "execution_count": 4,
   "metadata": {},
   "outputs": [
    {
     "data": {
      "text/latex": [
       "$\\displaystyle 20 x \\left(1 - x\\right)^{3}$"
      ],
      "text/plain": [
       "20*x*(1 - x)**3"
      ]
     },
     "execution_count": 4,
     "metadata": {},
     "output_type": "execute_result"
    }
   ],
   "source": [
    "x = sym.Symbol('x',Real=True)\n",
    "f= 20*x*((1-x)**3)\n",
    "f"
   ]
  },
  {
   "cell_type": "code",
   "execution_count": 7,
   "metadata": {},
   "outputs": [],
   "source": [
    "def MontecarloConRechazo(n, d):\n",
    "    dentro = 0\n",
    "    x1 = np.zeros(n)\n",
    "    y1 = np.zeros(n)\n",
    "    for i in range (n-1):\n",
    "        x= x1[i] + np.random.uniform(-d,d)\n",
    "        y= y1[i] + np.random.uniform(-d,d)\n",
    "        if (x>0 and x<1) and (y>0 and y<(135/64)):\n",
    "            x1[i+1] = x\n",
    "            y1[i+1] = y\n",
    "            dentro+=1\n",
    "        else:\n",
    "            x1[i+1] = x1[i]\n",
    "            y1[i+1] = y1[i]\n",
    "    integral= (1-0)*(135/64)*(dentro/n)\n",
    "    return integral\n",
    "\n",
    "            \n",
    "            \n",
    "        "
   ]
  },
  {
   "cell_type": "code",
   "execution_count": 77,
   "metadata": {},
   "outputs": [
    {
     "data": {
      "text/plain": [
       "1.003978125"
      ]
     },
     "execution_count": 77,
     "metadata": {},
     "output_type": "execute_result"
    }
   ],
   "source": [
    "MontecarloConRechazo(100000,0.82)"
   ]
  },
  {
   "cell_type": "code",
   "execution_count": 36,
   "metadata": {},
   "outputs": [
    {
     "data": {
      "text/plain": [
       "'Los mejores valores de delta estàn relacionados con el intervalo de integraciòn y el màximo y el mìnimo de la funciòn en el intervalo'"
      ]
     },
     "execution_count": 36,
     "metadata": {},
     "output_type": "execute_result"
    }
   ],
   "source": [
    "\"Los mejores valores de delta estàn relacionados con el intervalo de integraciòn y el màximo y el mìnimo de la funciòn en el intervalo\""
   ]
  },
  {
   "cell_type": "code",
   "execution_count": 78,
   "metadata": {},
   "outputs": [
    {
     "data": {
      "text/plain": [
       "array([1.00281797, 0.99883125, 1.00387266, 0.99990703, 1.00404141,\n",
       "       1.00433672, 1.01212031, 0.99813516, 1.01119219, 0.99851484])"
      ]
     },
     "execution_count": 78,
     "metadata": {},
     "output_type": "execute_result"
    }
   ],
   "source": [
    "resultados=[]\n",
    "for i in range (10):\n",
    "    resultados.append(MontecarloConRechazo(100000,0.82))\n",
    "resultados= np.array(resultados)\n",
    "resultados\n"
   ]
  },
  {
   "cell_type": "code",
   "execution_count": 79,
   "metadata": {},
   "outputs": [
    {
     "data": {
      "text/plain": [
       "1.003376953125"
      ]
     },
     "execution_count": 79,
     "metadata": {},
     "output_type": "execute_result"
    }
   ],
   "source": [
    "np.mean(resultados)"
   ]
  },
  {
   "cell_type": "code",
   "execution_count": 80,
   "metadata": {},
   "outputs": [
    {
     "data": {
      "text/plain": [
       "0.004725096521754063"
      ]
     },
     "execution_count": 80,
     "metadata": {},
     "output_type": "execute_result"
    }
   ],
   "source": [
    "np.std(resultados)"
   ]
  },
  {
   "cell_type": "code",
   "execution_count": 81,
   "metadata": {},
   "outputs": [
    {
     "data": {
      "text/plain": [
       "'La media se acerca bastante al valor real, el intervalo de incertidumbre  incluye el valor real, es muy cercano'"
      ]
     },
     "execution_count": 81,
     "metadata": {},
     "output_type": "execute_result"
    }
   ],
   "source": [
    "\"La media se acerca bastante al valor real, el intervalo de incertidumbre  incluye el valor real, es muy cercano\""
   ]
  },
  {
   "cell_type": "code",
   "execution_count": null,
   "metadata": {},
   "outputs": [],
   "source": []
  }
 ],
 "metadata": {
  "kernelspec": {
   "display_name": "Python 3",
   "language": "python",
   "name": "python3"
  },
  "language_info": {
   "codemirror_mode": {
    "name": "ipython",
    "version": 3
   },
   "file_extension": ".py",
   "mimetype": "text/x-python",
   "name": "python",
   "nbconvert_exporter": "python",
   "pygments_lexer": "ipython3",
   "version": "3.8.5"
  }
 },
 "nbformat": 4,
 "nbformat_minor": 4
}
