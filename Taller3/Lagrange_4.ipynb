{
 "cells": [
  {
   "cell_type": "code",
   "execution_count": 2,
   "id": "28183df8",
   "metadata": {},
   "outputs": [],
   "source": [
    "import numpy as np\n",
    "import matplotlib.pyplot as plt\n",
    "from matplotlib import rc\n",
    "import pandas as pd\n",
    "import sympy as sym\n",
    "import os.path as path\n",
    "import wget"
   ]
  },
  {
   "cell_type": "code",
   "execution_count": 3,
   "id": "14842310",
   "metadata": {},
   "outputs": [
    {
     "name": "stdout",
     "output_type": "stream",
     "text": [
      "--File found---\n"
     ]
    }
   ],
   "source": [
    "file = 'Parabolico.csv'\n",
    "url = 'https://raw.githubusercontent.com/asegura4488/Database/main/MetodosComputacionalesReforma/Parabolico.csv'\n",
    "if not path.exists(file):\n",
    "    Path_ = wget.download(url,file)\n",
    "else:\n",
    "    print('--File found---')\n",
    "    Path_ = file"
   ]
  },
  {
   "cell_type": "code",
   "execution_count": 4,
   "id": "dcc17505",
   "metadata": {},
   "outputs": [],
   "source": [
    "g = 9.8"
   ]
  },
  {
   "cell_type": "code",
   "execution_count": 5,
   "id": "1004d2c1",
   "metadata": {},
   "outputs": [],
   "source": [
    "data = pd.read_csv(file)"
   ]
  },
  {
   "cell_type": "code",
   "execution_count": 6,
   "id": "fcaae783",
   "metadata": {},
   "outputs": [],
   "source": [
    "x = np.linspace(data[\"X\"][0],data[\"X\"][2],100)"
   ]
  },
  {
   "cell_type": "code",
   "execution_count": 7,
   "id": "102eabb1",
   "metadata": {},
   "outputs": [],
   "source": [
    "def Lagrange(x,xi,j):\n",
    "    \n",
    "    prod = 1.0\n",
    "    n = len(xi)\n",
    "    \n",
    "    for i in range(n):\n",
    "        if i != j:\n",
    "            prod *= (x - xi[i])/(xi[j]-xi[i])\n",
    "            \n",
    "    return prod\n",
    "\n",
    "def Poly(x,xi,yi):\n",
    "    \n",
    "    Sum = 0.\n",
    "    n = len(xi)\n",
    "        \n",
    "    for j in range(n):\n",
    "        Sum += yi[j]*Lagrange(x,xi,j)\n",
    "        \n",
    "    return Sum"
   ]
  },
  {
   "cell_type": "code",
   "execution_count": 10,
   "id": "4b4ad61a",
   "metadata": {},
   "outputs": [
    {
     "data": {
      "text/plain": [
       "<matplotlib.legend.Legend at 0x1b76f87b370>"
      ]
     },
     "execution_count": 10,
     "metadata": {},
     "output_type": "execute_result"
    },
    {
     "data": {
      "image/png": "[encoded data removed]",
      "text/plain": [
       "<Figure size 576x576 with 1 Axes>"
      ]
     },
     "metadata": {
      "needs_background": "light"
     },
     "output_type": "display_data"
    }
   ],
   "source": [
    "y = Poly(x,data[\"X\"],data[\"Y\"])\n",
    "\n",
    "fig = plt.figure(figsize=(8,8))\n",
    "\n",
    "ax1 = fig.add_subplot()\n",
    "ax1.scatter(data[\"X\"],data[\"Y\"],color=\"r\",label=\"Datos\")\n",
    "ax1.plot(x,y,color=\"k\",label=\"Interpolación\")\n",
    "ax1.legend()"
   ]
  },
  {
   "cell_type": "code",
   "execution_count": 11,
   "id": "591b66c6",
   "metadata": {},
   "outputs": [],
   "source": [
    "x = sym.Symbol('x')\n",
    "f = Poly(x,data[\"X\"],data[\"Y\"])\n",
    "sf = sym.expand(f)\n",
    "lf = sym.lambdify([x], sf, \"numpy\")"
   ]
  },
  {
   "cell_type": "code",
   "execution_count": 12,
   "id": "7e6942bd",
   "metadata": {},
   "outputs": [
    {
     "data": {
      "text/latex": [
       "$\\displaystyle - 0.0554912422401579 x^{2} + 0.363970234266202 x + 2.77555756156289 \\cdot 10^{-17}$"
      ],
      "text/plain": [
       "-0.0554912422401579*x**2 + 0.363970234266202*x + 2.77555756156289e-17"
      ]
     },
     "execution_count": 12,
     "metadata": {},
     "output_type": "execute_result"
    }
   ],
   "source": [
    "sf"
   ]
  },
  {
   "cell_type": "markdown",
   "id": "18946ade",
   "metadata": {},
   "source": [
    "$$ y = H + v_{0y}\\frac{x}{v_{0x}}  - \\frac{1}{2}g(\\frac{x}{v_{0x}})^2 $$\n",
    "\n",
    "$$ y = h + x \\cdot tan(\\theta_0)  - \\frac{gx^2}{2v_0^2cos^2(\\theta_0)} $$"
   ]
  },
  {
   "cell_type": "markdown",
   "id": "071b8378",
   "metadata": {},
   "source": [
    "Entonces:\n",
    "$$ h = 2.77555756156289 \\cdot 10^{-17} $$\n",
    "\n",
    "$$ tan(\\theta_0) = 0.363970234266202 $$\n",
    "\n",
    "$$ \\frac{g}{2v_0^2cos^2(\\theta_0)} = 0.0554912422401579 $$\n",
    "\n",
    "$$ v_{0}^2 = \\frac{g}{2cos^2(\\theta_0) \\cdot 0.0554912422401579} $$\n",
    "\n",
    "$$ v_{0} = \\sqrt{\\frac{g}{2cos^2(\\theta_0) \\cdot 0.0554912422401579}} $$"
   ]
  },
  {
   "cell_type": "code",
   "execution_count": 13,
   "id": "003e233b",
   "metadata": {},
   "outputs": [],
   "source": [
    "theta = sym.atan(0.363970234266202)"
   ]
  },
  {
   "cell_type": "code",
   "execution_count": 14,
   "id": "e8569449",
   "metadata": {},
   "outputs": [
    {
     "data": {
      "text/latex": [
       "$\\displaystyle 0.349065850398866$"
      ],
      "text/plain": [
       "0.349065850398866"
      ]
     },
     "execution_count": 14,
     "metadata": {},
     "output_type": "execute_result"
    }
   ],
   "source": [
    "#Radianes\n",
    "theta"
   ]
  },
  {
   "cell_type": "code",
   "execution_count": 15,
   "id": "a4e56bd9",
   "metadata": {},
   "outputs": [
    {
     "data": {
      "text/latex": [
       "$\\displaystyle 20.0$"
      ],
      "text/plain": [
       "20.0000000000000"
      ]
     },
     "execution_count": 15,
     "metadata": {},
     "output_type": "execute_result"
    }
   ],
   "source": [
    "#Grados\n",
    "theta*180/np.pi"
   ]
  },
  {
   "cell_type": "code",
   "execution_count": 16,
   "id": "63c0eba6",
   "metadata": {},
   "outputs": [],
   "source": [
    "v_0 = np.sqrt(g/(2 * np.cos(0.349065850398866)**2 * 0.0554912422401579))"
   ]
  },
  {
   "cell_type": "code",
   "execution_count": 17,
   "id": "4ad5134a",
   "metadata": {},
   "outputs": [
    {
     "data": {
      "text/plain": [
       "10.000000000000004"
      ]
     },
     "execution_count": 17,
     "metadata": {},
     "output_type": "execute_result"
    }
   ],
   "source": [
    "#m/s\n",
    "v_0"
   ]
  }
 ],
 "metadata": {
  "kernelspec": {
   "display_name": "Python 3 (ipykernel)",
   "language": "python",
   "name": "python3"
  },
  "language_info": {
   "codemirror_mode": {
    "name": "ipython",
    "version": 3
   },
   "file_extension": ".py",
   "mimetype": "text/x-python",
   "name": "python",
   "nbconvert_exporter": "python",
   "pygments_lexer": "ipython3",
   "version": "3.9.12"
  }
 },
 "nbformat": 4,
 "nbformat_minor": 5
}
