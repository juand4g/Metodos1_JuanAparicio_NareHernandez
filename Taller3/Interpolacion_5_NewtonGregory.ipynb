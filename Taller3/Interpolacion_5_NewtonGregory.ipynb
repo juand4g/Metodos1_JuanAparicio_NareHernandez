{
 "cells": [
  {
   "cell_type": "code",
   "execution_count": 29,
   "id": "c9a87343",
   "metadata": {},
   "outputs": [],
   "source": [
    "import numpy as np\n",
    "import matplotlib.pyplot as plt\n",
    "from matplotlib import rc\n",
    "import pandas as pd\n",
    "import sympy as sym\n",
    "import os.path as path\n",
    "import wget"
   ]
  },
  {
   "cell_type": "code",
   "execution_count": 30,
   "id": "d9664f3b",
   "metadata": {},
   "outputs": [],
   "source": [
    "file='InterpolacionNewtonNoequi.csv'\n",
    "url='https://raw.githubusercontent.com/asegura4488/Database/main/MetodosComputacionalesReforma/InterpolacionNewtonNoequi.csv'\n",
    "if not path.exists(file):\n",
    "    Path_ = wget.download(url,file)\n",
    "else:\n",
    "    Path_ = file"
   ]
  },
  {
   "cell_type": "code",
   "execution_count": 31,
   "id": "dfce54ef",
   "metadata": {},
   "outputs": [],
   "source": [
    "Data = pd.read_csv(Path_,sep=',')\n",
    "X = np.float64(Data['X'])\n",
    "Y = np.float64(Data['Y'])"
   ]
  },
  {
   "cell_type": "code",
   "execution_count": 32,
   "id": "f38739f2",
   "metadata": {},
   "outputs": [],
   "source": [
    "def NewtonGregoryNonEq(X,Y,x):\n",
    "    Sum_ = Y[0]\n",
    "    \n",
    "    Diff = np.zeros((len(X),len(Y)))\n",
    "    Diff[:,0] = Y\n",
    "\n",
    "    h = X[1] - X[0]\n",
    "            \n",
    "    poly = 1.0\n",
    "    \n",
    "    for i in range(1,len(X)):\n",
    "        \n",
    "        poly *= ( x - X[i-1] )\n",
    "        \n",
    "        for j in range(i, len(X)):\n",
    "            Diff[j,i] = (Diff[j,i-1]-Diff[j-1,i-1]) / (X[j] - X[j-i])\n",
    "            \n",
    "        Sum_ += poly*(Diff[i,i])\n",
    "    \n",
    "    return Sum_,np.round(Diff,2)"
   ]
  },
  {
   "cell_type": "code",
   "execution_count": 33,
   "id": "eb90cbed",
   "metadata": {},
   "outputs": [],
   "source": [
    "x = np.linspace(np.min(X),np.max(X),100)\n",
    "y,mat = NewtonGregoryNonEq(X,Y,x)"
   ]
  },
  {
   "cell_type": "code",
   "execution_count": 34,
   "id": "b001848f",
   "metadata": {},
   "outputs": [
    {
     "data": {
      "text/plain": [
       "array([[-18.  ,   0.  ,   0.  ,   0.  ,   0.  ,   0.  ],\n",
       "       [-13.  ,   3.33,   0.  ,   0.  ,   0.  ,   0.  ],\n",
       "       [  0.  ,  26.  ,  11.33,   0.  ,   0.  ,   0.  ],\n",
       "       [  5.  ,   2.78, -10.1 ,  -5.64,   0.  ,   0.  ],\n",
       "       [  3.  ,  -5.  ,  -3.54,   2.43,   1.92,   0.  ],\n",
       "       [ 10.  ,   4.12,   4.34,   2.02,  -0.09,  -0.34]])"
      ]
     },
     "execution_count": 34,
     "metadata": {},
     "output_type": "execute_result"
    }
   ],
   "source": [
    "mat"
   ]
  },
  {
   "cell_type": "code",
   "execution_count": 35,
   "id": "cc7388ef",
   "metadata": {},
   "outputs": [
    {
     "data": {
      "text/plain": [
       "<matplotlib.legend.Legend at 0x1d156a03490>"
      ]
     },
     "execution_count": 35,
     "metadata": {},
     "output_type": "execute_result"
    },
    {
     "data": {
      "image/png": "[encoded data removed]",
      "text/plain": [
       "<Figure size 432x288 with 1 Axes>"
      ]
     },
     "metadata": {
      "needs_background": "light"
     },
     "output_type": "display_data"
    }
   ],
   "source": [
    "plt.scatter(X,Y,c=\"r\",label=\"Datos\")\n",
    "plt.plot(x,y,label=\"Interpolación\",color=\"#0000FF\")\n",
    "plt.legend()"
   ]
  },
  {
   "cell_type": "code",
   "execution_count": 36,
   "id": "0c229327",
   "metadata": {},
   "outputs": [],
   "source": [
    "x = sym.Symbol('x',Real='True')\n",
    "p,_ = NewtonGregoryNonEq(X,Y,x)\n",
    "p = p.simplify()"
   ]
  },
  {
   "cell_type": "code",
   "execution_count": 37,
   "id": "88524007",
   "metadata": {},
   "outputs": [
    {
     "data": {
      "text/latex": [
       "$\\displaystyle - 0.34145435774264 x^{5} + 5.84804869821673 x^{4} - 35.6998197753506 x^{3} + 89.657566164176 x^{2} - 68.8369730888011 x - 18.0$"
      ],
      "text/plain": [
       "-0.34145435774264*x**5 + 5.84804869821673*x**4 - 35.6998197753506*x**3 + 89.657566164176*x**2 - 68.8369730888011*x - 18.0"
      ]
     },
     "execution_count": 37,
     "metadata": {},
     "output_type": "execute_result"
    }
   ],
   "source": [
    "#POLINOMIO INTERPOLANTE DE MENOR GRADO\n",
    "p"
   ]
  }
 ],
 "metadata": {
  "kernelspec": {
   "display_name": "Python 3 (ipykernel)",
   "language": "python",
   "name": "python3"
  },
  "language_info": {
   "codemirror_mode": {
    "name": "ipython",
    "version": 3
   },
   "file_extension": ".py",
   "mimetype": "text/x-python",
   "name": "python",
   "nbconvert_exporter": "python",
   "pygments_lexer": "ipython3",
   "version": "3.9.12"
  }
 },
 "nbformat": 4,
 "nbformat_minor": 5
}
