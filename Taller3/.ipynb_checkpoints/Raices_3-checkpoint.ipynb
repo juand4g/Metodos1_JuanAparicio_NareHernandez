{
 "cells": [
  {
   "cell_type": "code",
   "execution_count": 19,
   "id": "173ead18",
   "metadata": {},
   "outputs": [],
   "source": [
    "import numpy as np\n",
    "import matplotlib.pyplot as plt\n",
    "import sympy as sym"
   ]
  },
  {
   "cell_type": "code",
   "execution_count": 20,
   "id": "b6902f91",
   "metadata": {},
   "outputs": [],
   "source": [
    "n = 100\n",
    "domX = np.linspace(-10,10,n)"
   ]
  },
  {
   "cell_type": "code",
   "execution_count": 21,
   "id": "0a9a6a8c",
   "metadata": {},
   "outputs": [],
   "source": [
    "def NewtonRaphson(f,x_1,lim=100):\n",
    "    iteraciones = 0\n",
    "    while (round(f(x_1),6) != 0) and (iteraciones <= lim):\n",
    "        x_1 = x_1 - (f(x_1)/Derivative(f,x_1))\n",
    "        iteraciones += 1\n",
    "    \n",
    "    if iteraciones > lim:\n",
    "        return False\n",
    "    else:\n",
    "        return x_1\n",
    "\n",
    "def Derivative(f,x,h=1e-6):\n",
    "    return (f(x+h)-f(x-h))/(2*h)"
   ]
  },
  {
   "cell_type": "code",
   "execution_count": 22,
   "id": "0be36cc3",
   "metadata": {},
   "outputs": [],
   "source": [
    "f = lambda x: 3*x**5 + 5*x**4 - x**3"
   ]
  },
  {
   "cell_type": "code",
   "execution_count": 23,
   "id": "7446e57a",
   "metadata": {},
   "outputs": [
    {
     "data": {
      "text/plain": [
       "0.18046044890592797"
      ]
     },
     "execution_count": 23,
     "metadata": {},
     "output_type": "execute_result"
    }
   ],
   "source": [
    "NewtonRaphson(f,1)"
   ]
  },
  {
   "cell_type": "code",
   "execution_count": 43,
   "id": "2cdbd160",
   "metadata": {},
   "outputs": [],
   "source": [
    "raices = []\n",
    "i=1\n",
    "raiz = None\n",
    "while (raiz != False) and (i <= n):\n",
    "    x_1 = domX[n-i]\n",
    "    raizNueva = round(NewtonRaphson(f,x_1),3)\n",
    "    #La cantidad de raíces aumenta conforme se tienen en cuenta más decimales.\n",
    "    if raizNueva != raiz:\n",
    "        raices.append(raizNueva)\n",
    "        raiz = raizNueva\n",
    "    i+=1"
   ]
  },
  {
   "cell_type": "code",
   "execution_count": 44,
   "id": "4c5bc8b9",
   "metadata": {},
   "outputs": [
    {
     "data": {
      "text/plain": [
       "[0.18, 0.008, -0.007, -0.006, -0.007, -0.008, -0.007, -1.847]"
      ]
     },
     "execution_count": 44,
     "metadata": {},
     "output_type": "execute_result"
    }
   ],
   "source": [
    "raices"
   ]
  },
  {
   "cell_type": "code",
   "execution_count": 45,
   "id": "df34a543",
   "metadata": {},
   "outputs": [
    {
     "data": {
      "image/png": "[encoded data removed]",
      "text/plain": [
       "<Figure size 720x720 with 1 Axes>"
      ]
     },
     "metadata": {
      "needs_background": "light"
     },
     "output_type": "display_data"
    }
   ],
   "source": [
    "fig = plt.figure(figsize=(10,10))\n",
    "\n",
    "ax1 = fig.add_subplot()\n",
    "plt.xlim(-6,6)\n",
    "plt.ylim(-1,1)\n",
    "ax1.plot(domX,f(domX))\n",
    "plt.axhline(y=0,color='r')\n",
    "for r in raices:\n",
    "    ax1.scatter(r,f(r))"
   ]
  }
 ],
 "metadata": {
  "kernelspec": {
   "display_name": "Python 3 (ipykernel)",
   "language": "python",
   "name": "python3"
  },
  "language_info": {
   "codemirror_mode": {
    "name": "ipython",
    "version": 3
   },
   "file_extension": ".py",
   "mimetype": "text/x-python",
   "name": "python",
   "nbconvert_exporter": "python",
   "pygments_lexer": "ipython3",
   "version": "3.9.12"
  }
 },
 "nbformat": 4,
 "nbformat_minor": 5
}
