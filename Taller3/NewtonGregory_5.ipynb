{
 "cells": [
  {
   "cell_type": "code",
   "execution_count": 1,
   "id": "c9a87343",
   "metadata": {},
   "outputs": [],
   "source": [
    "import numpy as np\n",
    "import matplotlib.pyplot as plt\n",
    "from matplotlib import rc\n",
    "import pandas as pd\n",
    "import sympy as sym\n",
    "import os.path as path\n",
    "import wget"
   ]
  },
  {
   "cell_type": "code",
   "execution_count": 2,
   "id": "d9664f3b",
   "metadata": {},
   "outputs": [],
   "source": [
    "file='InterpolacionNewtonNoequi.csv'\n",
    "url='https://raw.githubusercontent.com/asegura4488/Database/main/MetodosComputacionalesReforma/InterpolacionNewtonNoequi.csv'\n",
    "if not path.exists(file):\n",
    "    Path_ = wget.download(url,file)\n",
    "else:\n",
    "    Path_ = file"
   ]
  },
  {
   "cell_type": "code",
   "execution_count": 3,
   "id": "dfce54ef",
   "metadata": {},
   "outputs": [],
   "source": [
    "Data = pd.read_csv(Path_,sep=',')\n",
    "X = np.float64(Data['X'])\n",
    "Y = np.float64(Data['Y'])"
   ]
  },
  {
   "cell_type": "code",
   "execution_count": 4,
   "id": "f38739f2",
   "metadata": {},
   "outputs": [],
   "source": [
    "def NewtonGregory(X,Y,x):\n",
    "    \n",
    "    Sum_ = Y[0]\n",
    "    \n",
    "    Diff = np.zeros((len(X),len(Y)))\n",
    "    Diff[:,0] = Y\n",
    "\n",
    "    h = X[1] - X[0]\n",
    "            \n",
    "    poly = 1.0\n",
    "    \n",
    "    for i in range(1,len(X)):\n",
    "        \n",
    "        poly *= ( x - X[i-1] )\n",
    "        \n",
    "        for j in range(i, len(X)):\n",
    "            Diff[j,i] = Diff[j,i-1]-Diff[j-1,i-1]\n",
    "            \n",
    "        Sum_ += poly*(Diff[i,i])/(np.math.factorial(i)*(h**(i)))\n",
    "    \n",
    "    return Sum_,np.round(Diff,2)"
   ]
  },
  {
   "cell_type": "code",
   "execution_count": 5,
   "id": "eb90cbed",
   "metadata": {},
   "outputs": [],
   "source": [
    "x = np.linspace(np.min(X),np.max(X),100)\n",
    "y,mat = NewtonGregory(X,Y,x)"
   ]
  },
  {
   "cell_type": "code",
   "execution_count": 6,
   "id": "b001848f",
   "metadata": {},
   "outputs": [
    {
     "data": {
      "text/plain": [
       "array([[-18.,   0.,   0.,   0.,   0.,   0.],\n",
       "       [-13.,   5.,   0.,   0.,   0.,   0.],\n",
       "       [  0.,  13.,   8.,   0.,   0.,   0.],\n",
       "       [  5.,   5.,  -8., -16.,   0.,   0.],\n",
       "       [  3.,  -2.,  -7.,   1.,  17.,   0.],\n",
       "       [ 10.,   7.,   9.,  16.,  15.,  -2.]])"
      ]
     },
     "execution_count": 6,
     "metadata": {},
     "output_type": "execute_result"
    }
   ],
   "source": [
    "mat"
   ]
  },
  {
   "cell_type": "code",
   "execution_count": 7,
   "id": "cc7388ef",
   "metadata": {},
   "outputs": [
    {
     "data": {
      "text/plain": [
       "<matplotlib.legend.Legend at 0x152b3b73610>"
      ]
     },
     "execution_count": 7,
     "metadata": {},
     "output_type": "execute_result"
    },
    {
     "data": {
      "image/png": "[encoded data removed]",
      "text/plain": [
       "<Figure size 432x288 with 1 Axes>"
      ]
     },
     "metadata": {
      "needs_background": "light"
     },
     "output_type": "display_data"
    }
   ],
   "source": [
    "plt.scatter(X,Y,c=\"r\",label=\"Datos\")\n",
    "plt.plot(x,y,label=\"Interpolación\",color=\"#0000FF\")\n",
    "plt.legend()"
   ]
  },
  {
   "cell_type": "code",
   "execution_count": 8,
   "id": "0c229327",
   "metadata": {},
   "outputs": [],
   "source": [
    "x = sym.Symbol('x',Real='True')\n",
    "p,_ = NewtonGregory(X,Y,x)\n",
    "p = p.simplify()"
   ]
  },
  {
   "cell_type": "code",
   "execution_count": 9,
   "id": "88524007",
   "metadata": {},
   "outputs": [
    {
     "data": {
      "text/latex": [
       "$\\displaystyle - 0.00219478737997257 x^{5} + 0.165157750342936 x^{4} - 1.91458984910837 x^{3} + 6.99914403292181 x^{2} - 3.40385185185185 x - 18.0$"
      ],
      "text/plain": [
       "-0.00219478737997257*x**5 + 0.165157750342936*x**4 - 1.91458984910837*x**3 + 6.99914403292181*x**2 - 3.40385185185185*x - 18.0"
      ]
     },
     "execution_count": 9,
     "metadata": {},
     "output_type": "execute_result"
    }
   ],
   "source": [
    "p"
   ]
  },
  {
   "cell_type": "code",
   "execution_count": 10,
   "id": "9c8be1b6",
   "metadata": {},
   "outputs": [],
   "source": [
    "lp = sym.lambdify([x],p,\"numpy\")"
   ]
  },
  {
   "cell_type": "code",
   "execution_count": 11,
   "id": "3465cf13",
   "metadata": {},
   "outputs": [
    {
     "data": {
      "text/plain": [
       "<matplotlib.collections.PathCollection at 0x152b40623d0>"
      ]
     },
     "execution_count": 11,
     "metadata": {},
     "output_type": "execute_result"
    },
    {
     "data": {
      "image/png": "[encoded data removed]",
      "text/plain": [
       "<Figure size 432x288 with 1 Axes>"
      ]
     },
     "metadata": {
      "needs_background": "light"
     },
     "output_type": "display_data"
    }
   ],
   "source": [
    "dom = np.linspace(np.min(X),np.max(X),100)\n",
    "plt.plot(dom,lp(dom))\n",
    "plt.scatter(X,Y,c=\"r\",label=\"Datos\")\n"
   ]
  }
 ],
 "metadata": {
  "kernelspec": {
   "display_name": "Python 3 (ipykernel)",
   "language": "python",
   "name": "python3"
  },
  "language_info": {
   "codemirror_mode": {
    "name": "ipython",
    "version": 3
   },
   "file_extension": ".py",
   "mimetype": "text/x-python",
   "name": "python",
   "nbconvert_exporter": "python",
   "pygments_lexer": "ipython3",
   "version": "3.9.12"
  }
 },
 "nbformat": 4,
 "nbformat_minor": 5
}
