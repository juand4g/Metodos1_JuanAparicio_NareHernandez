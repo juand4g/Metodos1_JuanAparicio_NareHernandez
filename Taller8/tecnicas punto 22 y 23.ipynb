{
 "cells": [
  {
   "cell_type": "code",
   "execution_count": 33,
   "metadata": {},
   "outputs": [],
   "source": [
    "import random\n"
   ]
  },
  {
   "cell_type": "code",
   "execution_count": 31,
   "metadata": {},
   "outputs": [],
   "source": [
    "A=[0,1,2,3,4,5,6,7,8,9,10]\n",
    "B=[0,1,2,3,4,5,6,7,8,9,10]\n",
    "C=[0,1,2,3,4,5,6,7,8,9,10]\n",
    "n=0"
   ]
  },
  {
   "cell_type": "code",
   "execution_count": 32,
   "metadata": {},
   "outputs": [
    {
     "name": "stdout",
     "output_type": "stream",
     "text": [
      "66\n"
     ]
    }
   ],
   "source": [
    "for X in A:\n",
    "    for Y in B:\n",
    "        for Z in C:\n",
    "            if X+Y+Z==10:\n",
    "                n+=1\n",
    "print(n)"
   ]
  },
  {
   "cell_type": "code",
   "execution_count": 141,
   "metadata": {},
   "outputs": [
    {
     "name": "stdout",
     "output_type": "stream",
     "text": [
      "[['b', 'r', 'b', 'v'], ['r', 'b', 'v', 'b'], ['r', 'b', 'v', 'r'], ['v', 'v', 'r', 'b'], ['r', 'b', 'v', 'v'], ['b', 'v', 'r', 'b'], ['b', 'r', 'r', 'b'], ['b', 'b', 'r', 'v'], ['b', 'r', 'v', 'b'], ['b', 'v', 'b', 'v'], ['v', 'b', 'r', 'r'], ['b', 'b', 'r', 'r'], ['b', 'r', 'r', 'v'], ['r', 'v', 'v', 'r'], ['b', 'b', 'v', 'v'], ['v', 'r', 'b', 'v'], ['b', 'b', 'v', 'r'], ['r', 'r', 'b', 'v'], ['v', 'b', 'v', 'r'], ['b', 'r', 'r', 'r'], ['v', 'r', 'r', 'b'], ['r', 'r', 'b', 'b'], ['v', 'v', 'b', 'r'], ['v', 'v', 'r', 'r'], ['v', 'b', 'b', 'r'], ['r', 'r', 'v', 'r'], ['v', 'b', 'v', 'b'], ['v', 'b', 'v', 'v'], ['r', 'b', 'b', 'r'], ['v', 'r', 'b', 'r'], ['b', 'r', 'v', 'v'], ['r', 'b', 'r', 'v'], ['v', 'r', 'b', 'b'], ['v', 'r', 'v', 'r'], ['b', 'v', 'b', 'r'], ['b', 'r', 'b', 'r'], ['v', 'b', 'b', 'v'], ['v', 'v', 'v', 'r'], ['r', 'b', 'b', 'b'], ['b', 'v', 'r', 'r'], ['b', 'b', 'r', 'b'], ['v', 'b', 'b', 'b'], ['r', 'r', 'v', 'v'], ['r', 'b', 'r', 'b'], ['b', 'v', 'v', 'r'], ['v', 'v', 'b', 'b'], ['r', 'v', 'v', 'b'], ['v', 'v', 'v', 'b'], ['r', 'r', 'r', 'v'], ['b', 'r', 'b', 'b'], ['v', 'r', 'v', 'b'], ['v', 'r', 'r', 'v'], ['r', 'r', 'b', 'r'], ['r', 'b', 'b', 'v'], ['r', 'v', 'r', 'b'], ['r', 'r', 'v', 'b'], ['r', 'v', 'r', 'r'], ['v', 'b', 'r', 'b'], ['r', 'v', 'r', 'v'], ['r', 'v', 'v', 'v'], ['r', 'b', 'r', 'r'], ['r', 'v', 'b', 'r'], ['v', 'b', 'r', 'v'], ['r', 'v', 'b', 'b'], ['b', 'b', 'v', 'b'], ['b', 'b', 'b', 'v'], ['v', 'v', 'b', 'v'], ['v', 'r', 'v', 'v'], ['b', 'b', 'b', 'r'], ['v', 'r', 'r', 'r'], ['b', 'v', 'r', 'v'], ['b', 'r', 'v', 'r'], ['r', 'v', 'b', 'v'], ['b', 'v', 'b', 'b'], ['b', 'v', 'v', 'b'], ['b', 'v', 'v', 'v'], ['r', 'r', 'r', 'b'], ['v', 'v', 'r', 'v']] 78\n"
     ]
    }
   ],
   "source": [
    "lista=[]\n",
    "llaves= [\"r\",\"r\",\"r\",\"b\",\"b\",\"b\",\"v\",\"v\",\"v\"]\n",
    "k=0\n",
    "while k<100000:\n",
    "    a= random.sample(llaves,4)\n",
    "    if a in lista:\n",
    "         k+=1\n",
    "    else:\n",
    "        lista.append(a)\n",
    "        k+=1\n",
    "print((lista),len(lista))\n",
    "\n"
   ]
  },
  {
   "cell_type": "code",
   "execution_count": null,
   "metadata": {},
   "outputs": [],
   "source": []
  },
  {
   "cell_type": "code",
   "execution_count": null,
   "metadata": {},
   "outputs": [],
   "source": []
  },
  {
   "cell_type": "code",
   "execution_count": null,
   "metadata": {},
   "outputs": [],
   "source": []
  },
  {
   "cell_type": "code",
   "execution_count": null,
   "metadata": {},
   "outputs": [],
   "source": []
  }
 ],
 "metadata": {
  "kernelspec": {
   "display_name": "Python 3",
   "language": "python",
   "name": "python3"
  },
  "language_info": {
   "codemirror_mode": {
    "name": "ipython",
    "version": 3
   },
   "file_extension": ".py",
   "mimetype": "text/x-python",
   "name": "python",
   "nbconvert_exporter": "python",
   "pygments_lexer": "ipython3",
   "version": "3.8.5"
  }
 },
 "nbformat": 4,
 "nbformat_minor": 4
}
