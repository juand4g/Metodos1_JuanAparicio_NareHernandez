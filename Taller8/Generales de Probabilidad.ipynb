{
 "cells": [
  {
   "cell_type": "code",
   "execution_count": 1,
   "id": "84f3b22e",
   "metadata": {},
   "outputs": [],
   "source": [
    "import numpy as np\n",
    "import matplotlib.pyplot as plt\n",
    "from tqdm import tqdm"
   ]
  },
  {
   "cell_type": "markdown",
   "id": "6ecde41d",
   "metadata": {},
   "source": [
    "## EJERCICIO 3"
   ]
  },
  {
   "cell_type": "markdown",
   "id": "90d5e9fa",
   "metadata": {},
   "source": [
    "diario = 0.6\n",
    "\n",
    "cable = 0.8\n",
    "\n",
    "ambos = 0.5"
   ]
  },
  {
   "cell_type": "markdown",
   "id": "fa925a75",
   "metadata": {},
   "source": [
    "a) ¿Cuál es la probabilidad de que alguien esté suscrito a alguno de los dos servicios?"
   ]
  },
  {
   "cell_type": "markdown",
   "id": "5b4a992e",
   "metadata": {},
   "source": [
    "$$\\mathbb{P}(D\\cup C)=\\mathbb{P}(D)+\\mathbb{P}(C)-\\mathbb{P}(D\\cap C)$$\n",
    "$$\\mathbb{P}(D\\cup C)=0.6+0.8-0.5$$\n",
    "$$\\mathbb{P}(D\\cup C)=0.9$$"
   ]
  },
  {
   "cell_type": "markdown",
   "id": "f8f91e38",
   "metadata": {},
   "source": [
    "b) ¿Cuál es la probabilidad que esté suscrito al diario o al cable, pero no a ambos servicios?"
   ]
  },
  {
   "cell_type": "markdown",
   "id": "4dad34e1",
   "metadata": {},
   "source": [
    "$$\\mathbb{P}(D\\Delta C)=\\mathbb{P}((D\\cap C^{c}) \\cup (C\\cap D^{c}))$$\n",
    "$$\\mathbb{P}(D\\Delta C)=\\mathbb{P}(D\\cap C^{c}) + \\mathbb{P}(C\\cap D^{c}) - \\mathbb{P}((D\\cap C^{c}) \\cap (C\\cap D^{c}))$$\n",
    "$$\\mathbb{P}(D\\Delta C)=\\mathbb{P}(D)\\cdot \\mathbb{P}(C^{c}) + \\mathbb{P}(C)\\cdot \\mathbb{P}(D^{c}) - \\mathbb{P}(D)\\cdot \\mathbb{P}(C^{c}) \\cdot \\mathbb{P}(C)\\cdot \\mathbb{P}(D^{c})$$\n",
    "$$\\mathbb{P}(D\\Delta C)=0.6\\cdot 0.2 + 0.8\\cdot 0.4 - 0.6\\cdot 0.2 \\cdot 0.8\\cdot 0.4$$\n",
    "$$\\mathbb{P}(D\\Delta C)=0.4016...\\approx 0.4$$"
   ]
  },
  {
   "cell_type": "code",
   "execution_count": 2,
   "id": "6d51c253",
   "metadata": {},
   "outputs": [
    {
     "data": {
      "text/plain": [
       "0.40160000000000007"
      ]
     },
     "execution_count": 2,
     "metadata": {},
     "output_type": "execute_result"
    }
   ],
   "source": [
    "0.6*0.2 + 0.8*0.4 -0.6*0.2*0.8*0.4"
   ]
  },
  {
   "cell_type": "markdown",
   "id": "06e57ad3",
   "metadata": {},
   "source": [
    "## EJERCICIO 4"
   ]
  },
  {
   "cell_type": "code",
   "execution_count": 3,
   "id": "5d16c38e",
   "metadata": {},
   "outputs": [],
   "source": [
    "def Probabilidad(n):\n",
    "    if 365 < n:\n",
    "        print(\"El valor ingresado está fuera del rango.\")\n",
    "    else:\n",
    "        fav = 365\n",
    "        pos = 365\n",
    "        prob = 1\n",
    "        for i in range(int(n)):\n",
    "            prob *= fav/pos\n",
    "            fav -= 1\n",
    "        return prob"
   ]
  },
  {
   "cell_type": "code",
   "execution_count": 4,
   "id": "c77a3760",
   "metadata": {},
   "outputs": [],
   "source": [
    "N = np.linspace(1,80,80)\n",
    "P = np.zeros((80))\n",
    "\n",
    "for j in range(80):\n",
    "    P[j] = Probabilidad(N[j])"
   ]
  },
  {
   "cell_type": "code",
   "execution_count": 5,
   "id": "fc56446e",
   "metadata": {},
   "outputs": [
    {
     "data": {
      "text/plain": [
       "<matplotlib.legend.Legend at 0x2e7cb8edeb0>"
      ]
     },
     "execution_count": 5,
     "metadata": {},
     "output_type": "execute_result"
    },
    {
     "data": {
      "image/png": "[encoded data removed]",
      "text/plain": [
       "<Figure size 576x576 with 1 Axes>"
      ]
     },
     "metadata": {
      "needs_background": "light"
     },
     "output_type": "display_data"
    }
   ],
   "source": [
    "fig = plt.figure(figsize=(8,8))\n",
    "ax = fig.add_subplot()\n",
    "ax.plot(N,P,c=\"r\",label=\"Probabilidad\")\n",
    "ax.set_xlabel(\"n\")\n",
    "ax.set_ylabel(\"P(n)\")\n",
    "ax.grid()\n",
    "ax.legend()"
   ]
  },
  {
   "cell_type": "markdown",
   "id": "23d062e8",
   "metadata": {},
   "source": [
    "## EJERCICIO 8"
   ]
  },
  {
   "cell_type": "markdown",
   "id": "ca53001f",
   "metadata": {},
   "source": [
    "A = obtener 2 caras y 2 sellos\n",
    "Se lanzan 4 monedas, y para cada moneda hay 2 posibilidades.\n",
    "$$2^4=16$$\n",
    "Hay 16 posibles casos, de los cuales nos interesa que hayan dos caras y dos sellos. Las posibles situaciones en las cuales se cumple esto son:\n",
    "$$SSCC$$\n",
    "$$SCSC$$\n",
    "$$SCCS$$\n",
    "$$CSSC$$\n",
    "$$CCSS$$\n",
    "$$CSCS$$\n",
    "Por lo tanto, hay 6 casos favorables dentro de los 16 casos posibles. De modo que:\n",
    "$$\\mathbb{P}(A)=\\frac{6}{16}=\\frac{3}{8}=0.375$$"
   ]
  },
  {
   "cell_type": "code",
   "execution_count": 6,
   "id": "3a87077c",
   "metadata": {},
   "outputs": [],
   "source": [
    "N = int(10e5)"
   ]
  },
  {
   "cell_type": "code",
   "execution_count": 7,
   "id": "5dc36101",
   "metadata": {},
   "outputs": [],
   "source": [
    "def Experimento(n):\n",
    "    posibilidades = [-1,1]\n",
    "    favorables = 0\n",
    "\n",
    "    for i in tqdm(range(N)):\n",
    "        e1 = np.random.choice(posibilidades)\n",
    "        e2 = np.random.choice(posibilidades)\n",
    "        e3 = np.random.choice(posibilidades)\n",
    "        e4 = np.random.choice(posibilidades)\n",
    "\n",
    "        if e1+e2+e3+e4 == 0:\n",
    "            favorables += 1\n",
    "            \n",
    "    f = favorables/n\n",
    "            \n",
    "    return f"
   ]
  },
  {
   "cell_type": "code",
   "execution_count": 8,
   "id": "254d4a8e",
   "metadata": {},
   "outputs": [
    {
     "name": "stderr",
     "output_type": "stream",
     "text": [
      "100%|██████████| 1000000/1000000 [01:19<00:00, 12549.29it/s]\n"
     ]
    },
    {
     "data": {
      "text/plain": [
       "0.375071"
      ]
     },
     "execution_count": 8,
     "metadata": {},
     "output_type": "execute_result"
    }
   ],
   "source": [
    "Experimento(N)"
   ]
  },
  {
   "cell_type": "markdown",
   "id": "cad159b6",
   "metadata": {},
   "source": [
    "El resultado obtenido coincide con el valor teórico de la probabilidad de obtener 2 caras y 2 sellos."
   ]
  }
 ],
 "metadata": {
  "kernelspec": {
   "display_name": "Python 3 (ipykernel)",
   "language": "python",
   "name": "python3"
  },
  "language_info": {
   "codemirror_mode": {
    "name": "ipython",
    "version": 3
   },
   "file_extension": ".py",
   "mimetype": "text/x-python",
   "name": "python",
   "nbconvert_exporter": "python",
   "pygments_lexer": "ipython3",
   "version": "3.9.12"
  }
 },
 "nbformat": 4,
 "nbformat_minor": 5
}
