{
 "cells": [
  {
   "cell_type": "code",
   "execution_count": 3,
   "id": "1af73461",
   "metadata": {},
   "outputs": [],
   "source": [
    "import numpy as np\n",
    "import sympy as sym"
   ]
  },
  {
   "cell_type": "markdown",
   "id": "8f233ad0",
   "metadata": {},
   "source": [
    "## 22. ¿Cuántas sumas de 3 enteros no negativos dan 10? 66"
   ]
  },
  {
   "cell_type": "markdown",
   "id": "cac8e3d4",
   "metadata": {},
   "source": [
    "$$ a + b + c = 10 $$"
   ]
  },
  {
   "cell_type": "markdown",
   "id": "02cf8d8c",
   "metadata": {},
   "source": [
    "## 23. Se tienen 9 llaves: 3 rojas, 3 azules y 3 verdes. Si elegimos 4, ¿de cuántas formas se pueden distribuir los colores? 12"
   ]
  }
 ],
 "metadata": {
  "kernelspec": {
   "display_name": "Python 3 (ipykernel)",
   "language": "python",
   "name": "python3"
  },
  "language_info": {
   "codemirror_mode": {
    "name": "ipython",
    "version": 3
   },
   "file_extension": ".py",
   "mimetype": "text/x-python",
   "name": "python",
   "nbconvert_exporter": "python",
   "pygments_lexer": "ipython3",
   "version": "3.9.12"
  }
 },
 "nbformat": 4,
 "nbformat_minor": 5
}
