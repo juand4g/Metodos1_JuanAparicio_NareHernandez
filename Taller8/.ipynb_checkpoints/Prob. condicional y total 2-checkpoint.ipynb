{
 "cells": [
  {
   "cell_type": "markdown",
   "id": "68eca06d",
   "metadata": {},
   "source": [
    "Lanzamos un dado de 6 caras. Si sale 1 o 2 extraemos una bola de la urna 1. Si sale\n",
    "3,4,5,6 extraemos una bola de la urna 2. En la urna 1 tenemos 3 bolas rojas, 1 negra y 6\n",
    "verdes, y en la urna 2 tenemos 6 bolas rojas, 2 negras y 2 verdes. Calcular la probabilidad\n",
    "de que la bola obtenida"
   ]
  },
  {
   "cell_type": "markdown",
   "id": "6df17ca3",
   "metadata": {},
   "source": [
    "$$\\mathbb{P}(1)= \\frac{2}{6} = \\frac{1}{3}$$\n",
    "\n",
    "$$\\mathbb{P}(2)= \\frac{4}{6} = \\frac{2}{3}$$\n",
    "\n",
    "\n",
    "\n",
    "$$\\mathbb{P}(R/1)= \\frac{3}{10},  \\mathbb{P}(N/1)= \\frac{1}{10}, \\mathbb{P}(V/1)= \\frac{6}{10}$$\n",
    "\n",
    "\n",
    "\n",
    "$$\\mathbb{P}(R/2)= \\frac{6}{10}, \\mathbb{P}(N/2)= \\frac{2}{10}, \\mathbb{P}(V/2)= \\frac{2}{10}$$"
   ]
  },
  {
   "cell_type": "markdown",
   "id": "8a1d33f9",
   "metadata": {},
   "source": [
    "## a) Sea roja"
   ]
  },
  {
   "cell_type": "markdown",
   "id": "6628883a",
   "metadata": {},
   "source": [
    "$$\\mathbb{P}(R) = \\sum_{i=1}^{n} \\mathbb{P}(R/A_i) \\mathbb{P}(A_i) $$\n",
    "\n",
    "$$\\mathbb{P}(R) =  \\mathbb{P}(R/1)\\mathbb{P}(1) + \\mathbb{P}(R/2)\\mathbb{P}(2)$$\n",
    "\n",
    "$$\\mathbb{P}(R) =  \\frac{3}{10}\\frac{1}{3} + \\frac{6}{10}\\frac{2}{3}$$\n",
    "\n",
    "$$\\mathbb{P}(R) =  \\frac{3}{30} + \\frac{12}{30}$$\n",
    "\n",
    "$$\\mathbb{P}(R) =  \\frac{15}{30} = \\frac{1}{2}$$\n"
   ]
  },
  {
   "cell_type": "markdown",
   "id": "b99d5bca",
   "metadata": {},
   "source": [
    "## b) Sea negra"
   ]
  },
  {
   "cell_type": "markdown",
   "id": "42ea3070",
   "metadata": {},
   "source": [
    "$$\\mathbb{P}(N) = \\sum_{i=1}^{n} \\mathbb{P}(N/A_i) \\mathbb{P}(A_i) $$\n",
    "\n",
    "$$\\mathbb{P}(N) =  \\mathbb{P}(N/1)\\mathbb{P}(1) + \\mathbb{P}(N/2)\\mathbb{P}(2)$$\n",
    "\n",
    "$$\\mathbb{P}(N) =  \\frac{1}{10}\\frac{1}{3} + \\frac{2}{10}\\frac{2}{3}$$\n",
    "\n",
    "$$\\mathbb{P}(N) =  \\frac{1}{30} + \\frac{4}{30}$$\n",
    "\n",
    "$$\\mathbb{P}(N) =  \\frac{5}{30} = \\frac{1}{6}$$\n"
   ]
  },
  {
   "cell_type": "markdown",
   "id": "ea145f9c",
   "metadata": {},
   "source": [
    "## c) Sea de la urna 1 si se ha obtenido una bola negra"
   ]
  },
  {
   "cell_type": "markdown",
   "id": "4ba8be02",
   "metadata": {},
   "source": [
    "$$\\mathbb{P}(1/N) = \\frac{\\mathbb{P}(1 \\cap N)}{\\mathbb{P}(N)} $$\n",
    "\n",
    "$$\\mathbb{P}(1/N) = \\frac{\\frac{1}{3}\\frac{1}{10}}{\\frac{1}{6}} = \\frac{\\frac{1}{30}}{\\frac{1}{6}} = \\frac{6}{30}$$\n",
    "\n",
    "$$\\mathbb{P}(1/N) = \\frac{1}{5}$$"
   ]
  },
  {
   "cell_type": "markdown",
   "id": "843ed073",
   "metadata": {},
   "source": [
    "## d) Sea de la urna 2 si se ha obtenido una bola negra"
   ]
  },
  {
   "cell_type": "markdown",
   "id": "6a495050",
   "metadata": {},
   "source": [
    "$$\\mathbb{P}(2/N) = \\frac{\\mathbb{P}(2 \\cap N)}{\\mathbb{P}(N)} $$\n",
    "\n",
    "$$\\mathbb{P}(2/N) = \\frac{\\frac{2}{3}\\frac{2}{10}}{\\frac{1}{6}} = \\frac{\\frac{4}{30}}{\\frac{1}{6}} = \\frac{24}{30}$$\n",
    "\n",
    "$$\\mathbb{P}(2/N) = \\frac{4}{5}$$"
   ]
  }
 ],
 "metadata": {
  "kernelspec": {
   "display_name": "Python 3 (ipykernel)",
   "language": "python",
   "name": "python3"
  },
  "language_info": {
   "codemirror_mode": {
    "name": "ipython",
    "version": 3
   },
   "file_extension": ".py",
   "mimetype": "text/x-python",
   "name": "python",
   "nbconvert_exporter": "python",
   "pygments_lexer": "ipython3",
   "version": "3.9.12"
  }
 },
 "nbformat": 4,
 "nbformat_minor": 5
}
