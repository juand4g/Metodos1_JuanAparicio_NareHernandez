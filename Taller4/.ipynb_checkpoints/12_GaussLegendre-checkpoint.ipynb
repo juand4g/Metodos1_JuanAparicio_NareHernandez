{
 "cells": [
  {
   "cell_type": "code",
   "execution_count": 9,
   "id": "aa9988df",
   "metadata": {},
   "outputs": [],
   "source": [
    "import numpy as np\n",
    "import matplotlib.pyplot as plt\n",
    "import sympy as sym"
   ]
  },
  {
   "cell_type": "code",
   "execution_count": 10,
   "id": "810149c0",
   "metadata": {},
   "outputs": [],
   "source": [
    "f = lambda x: 1/(x**2)\n",
    "a = 1\n",
    "b = 2\n",
    "x = sym.Symbol('x',Real=True)\n",
    "y = sym.Symbol('y',Real=True)"
   ]
  },
  {
   "cell_type": "code",
   "execution_count": 11,
   "id": "0115ce19",
   "metadata": {},
   "outputs": [],
   "source": [
    "def Legendre(n):\n",
    "    \n",
    "    y = (x**2-1)**n\n",
    "    \n",
    "    p = sym.diff(y,x,n)/(2**n * np.math.factorial(n))\n",
    "    \n",
    "    return p"
   ]
  },
  {
   "cell_type": "code",
   "execution_count": 17,
   "id": "88936d29",
   "metadata": {},
   "outputs": [
    {
     "data": {
      "text/latex": [
       "$\\displaystyle x^{6} - 2 x^{4} + x^{2}$"
      ],
      "text/plain": [
       "x**6 - 2*x**4 + x**2"
      ]
     },
     "execution_count": 17,
     "metadata": {},
     "output_type": "execute_result"
    }
   ],
   "source": [
    "L_1 = 1\n",
    "L_2 = 1\n",
    "L_3 = 1\n",
    "n = 3\n",
    "#dom = np.linspace(-1,1,n)\n",
    "domE = [-1,0,1]\n",
    "\n",
    "for i in range(len(domE)):\n",
    "    L *= (x - domE[i]**n)**2\n",
    "\n",
    "sym.simplify(L)"
   ]
  },
  {
   "cell_type": "code",
   "execution_count": null,
   "id": "6747c008",
   "metadata": {},
   "outputs": [],
   "source": []
  },
  {
   "cell_type": "code",
   "execution_count": null,
   "id": "7682d4fe",
   "metadata": {},
   "outputs": [],
   "source": []
  }
 ],
 "metadata": {
  "kernelspec": {
   "display_name": "Python 3 (ipykernel)",
   "language": "python",
   "name": "python3"
  },
  "language_info": {
   "codemirror_mode": {
    "name": "ipython",
    "version": 3
   },
   "file_extension": ".py",
   "mimetype": "text/x-python",
   "name": "python",
   "nbconvert_exporter": "python",
   "pygments_lexer": "ipython3",
   "version": "3.9.12"
  }
 },
 "nbformat": 4,
 "nbformat_minor": 5
}
