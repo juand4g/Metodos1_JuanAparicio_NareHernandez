{
 "cells": [
  {
   "cell_type": "code",
   "execution_count": 1,
   "id": "d565de4d",
   "metadata": {},
   "outputs": [],
   "source": [
    "import numpy as np\n",
    "import sympy as sym"
   ]
  },
  {
   "cell_type": "code",
   "execution_count": 2,
   "id": "2640dbf1",
   "metadata": {},
   "outputs": [],
   "source": [
    "def Legendre(n):\n",
    "    \n",
    "    x = sym.Symbol('x',Real=True)\n",
    "    y = sym.Symbol('y',Real=True)\n",
    "    \n",
    "    y = (x**2-1)**n\n",
    "    \n",
    "    p = sym.diff(y,x,n)/(2**n * np.math.factorial(n))\n",
    "    \n",
    "    return p"
   ]
  },
  {
   "cell_type": "code",
   "execution_count": 17,
   "id": "4e442fc4",
   "metadata": {},
   "outputs": [
    {
     "data": {
      "text/latex": [
       "$\\displaystyle 1$"
      ],
      "text/plain": [
       "1"
      ]
     },
     "execution_count": 17,
     "metadata": {},
     "output_type": "execute_result"
    }
   ],
   "source": [
    "Legendre(0)"
   ]
  },
  {
   "cell_type": "code",
   "execution_count": 18,
   "id": "3d773895",
   "metadata": {},
   "outputs": [
    {
     "data": {
      "text/latex": [
       "$\\displaystyle x$"
      ],
      "text/plain": [
       "x"
      ]
     },
     "execution_count": 18,
     "metadata": {},
     "output_type": "execute_result"
    }
   ],
   "source": [
    "Legendre(1)"
   ]
  },
  {
   "cell_type": "code",
   "execution_count": 19,
   "id": "72629449",
   "metadata": {},
   "outputs": [
    {
     "data": {
      "text/latex": [
       "$\\displaystyle \\frac{3 x^{2} - 1}{2}$"
      ],
      "text/plain": [
       "(3*x**2 - 1)/2"
      ]
     },
     "execution_count": 19,
     "metadata": {},
     "output_type": "execute_result"
    }
   ],
   "source": [
    "Legendre(2)"
   ]
  },
  {
   "cell_type": "markdown",
   "id": "e6583666",
   "metadata": {},
   "source": [
    "Escribir el polinomio\n",
    "$$ p(x) = 3 + 5x +x^2 $$\n",
    "en la base de Legendre.\n",
    "\n",
    "El polinomio expresado en la base canónica $ \\{1, x, x^2\\} $ es:\n",
    "$$ (3, 5, 1) $$\n",
    "\n",
    "Y dados los polinomios de Legrende de grados 0, 1 y 2. Podemos definir una base para $\\Re^3$:\n",
    "$$ B_L = \\{(1, 0, 0), (0, 1, 0), (-\\frac{1}{2}, 0, \\frac{3}{2})\\} $$\n",
    "\n",
    "Para expresar el polinomio dado en la base de Legrende, formulamos lo siguiente:\n",
    "$$ (3, 5, 1) = a(1, 0, 0) + b(0, 1, 0) + c(-\\frac{1}{2}, 0, \\frac{3}{2})$$\n",
    "\n",
    "De donde surge el sistema de ecuaciones:\n",
    "$$ a - \\frac{c}{2} = 3 $$\n",
    "$$ b = 5 $$\n",
    "$$ \\frac{3}{2}c = 1 $$\n",
    "\n",
    "Obteniendo:\n",
    "\n",
    "$$ a -\\frac{\\frac{2}{3}}{2} = 3 $$\n",
    "$$ b = 5 $$\n",
    "$$ c = \\frac{2}{3} $$\n",
    "\n",
    "$$ a - \\frac{2}{6} = 3 $$\n",
    "$$ a = 3 + \\frac{2}{6} $$\n",
    "$$ a = \\frac{18+2}{6} $$\n",
    "$$ a = \\frac{20}{6} = \\frac{10}{3} $$\n",
    "\n",
    "Así concluimos que:\n",
    "$$ p(x) = \\frac{10}{3}p_0(x) + 5p_1(x) + \\frac{2}{3}p_2(x)$$"
   ]
  }
 ],
 "metadata": {
  "kernelspec": {
   "display_name": "Python 3 (ipykernel)",
   "language": "python",
   "name": "python3"
  },
  "language_info": {
   "codemirror_mode": {
    "name": "ipython",
    "version": 3
   },
   "file_extension": ".py",
   "mimetype": "text/x-python",
   "name": "python",
   "nbconvert_exporter": "python",
   "pygments_lexer": "ipython3",
   "version": "3.9.12"
  }
 },
 "nbformat": 4,
 "nbformat_minor": 5
}
