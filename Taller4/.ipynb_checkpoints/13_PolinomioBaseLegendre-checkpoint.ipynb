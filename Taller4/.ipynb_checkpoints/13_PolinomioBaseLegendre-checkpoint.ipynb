{
 "cells": [
  {
   "cell_type": "code",
   "execution_count": 1,
   "id": "66c13295",
   "metadata": {},
   "outputs": [],
   "source": [
    "import numpy as np\n",
    "import sympy as sym"
   ]
  },
  {
   "cell_type": "code",
   "execution_count": 2,
   "id": "5e6613a5",
   "metadata": {},
   "outputs": [],
   "source": [
    "def Legendre(n):\n",
    "    \n",
    "    x = sym.Symbol('x',Real=True)\n",
    "    y = sym.Symbol('y',Real=True)\n",
    "    \n",
    "    y = (x**2-1)**n\n",
    "    \n",
    "    p = sym.diff(y,x,n)/(2**n * np.math.factorial(n))\n",
    "    \n",
    "    return p"
   ]
  },
  {
   "cell_type": "code",
   "execution_count": 5,
   "id": "2af6f4f5",
   "metadata": {},
   "outputs": [
    {
     "data": {
      "text/latex": [
       "$\\displaystyle x^{2} + 5 x + 3$"
      ],
      "text/plain": [
       "x**2 + 5*x + 3"
      ]
     },
     "execution_count": 5,
     "metadata": {},
     "output_type": "execute_result"
    }
   ],
   "source": [
    "x = sym.Symbol(\"x\", Real=True)\n",
    "p = 3 + 5*x +x**2\n",
    "p"
   ]
  },
  {
   "cell_type": "code",
   "execution_count": 9,
   "id": "5ce5a66a",
   "metadata": {},
   "outputs": [],
   "source": [
    "P = (3, 5*x, x**2)\n",
    "B = (Legendre(0), Legendre(1), Legendre(2))\n",
    "coef = (P[0]/B[0], P[1]/B[1], P[2]/B[2])"
   ]
  },
  {
   "cell_type": "code",
   "execution_count": 10,
   "id": "39a799bc",
   "metadata": {},
   "outputs": [
    {
     "data": {
      "text/plain": [
       "(3, 5, 2*x**2/(3*x**2 - 1))"
      ]
     },
     "execution_count": 10,
     "metadata": {},
     "output_type": "execute_result"
    }
   ],
   "source": [
    "coef"
   ]
  },
  {
   "cell_type": "code",
   "execution_count": 11,
   "id": "01877613",
   "metadata": {},
   "outputs": [
    {
     "data": {
      "text/latex": [
       "$\\displaystyle 1$"
      ],
      "text/plain": [
       "1"
      ]
     },
     "execution_count": 11,
     "metadata": {},
     "output_type": "execute_result"
    }
   ],
   "source": [
    "Legendre(0)"
   ]
  },
  {
   "cell_type": "code",
   "execution_count": 12,
   "id": "a134def9",
   "metadata": {},
   "outputs": [
    {
     "data": {
      "text/latex": [
       "$\\displaystyle x$"
      ],
      "text/plain": [
       "x"
      ]
     },
     "execution_count": 12,
     "metadata": {},
     "output_type": "execute_result"
    }
   ],
   "source": [
    "Legendre(1)"
   ]
  },
  {
   "cell_type": "code",
   "execution_count": 13,
   "id": "7519b52c",
   "metadata": {},
   "outputs": [
    {
     "data": {
      "text/latex": [
       "$\\displaystyle \\frac{3 x^{2} - 1}{2}$"
      ],
      "text/plain": [
       "(3*x**2 - 1)/2"
      ]
     },
     "execution_count": 13,
     "metadata": {},
     "output_type": "execute_result"
    }
   ],
   "source": [
    "Legendre(2)"
   ]
  },
  {
   "cell_type": "code",
   "execution_count": 14,
   "id": "c5279efb",
   "metadata": {},
   "outputs": [
    {
     "data": {
      "text/latex": [
       "$\\displaystyle 1.0 x^{2} - 0.333333333333333$"
      ],
      "text/plain": [
       "1.0*x**2 - 0.333333333333333"
      ]
     },
     "execution_count": 14,
     "metadata": {},
     "output_type": "execute_result"
    }
   ],
   "source": [
    "(2/3)*Legendre(2)"
   ]
  }
 ],
 "metadata": {
  "kernelspec": {
   "display_name": "Python 3 (ipykernel)",
   "language": "python",
   "name": "python3"
  },
  "language_info": {
   "codemirror_mode": {
    "name": "ipython",
    "version": 3
   },
   "file_extension": ".py",
   "mimetype": "text/x-python",
   "name": "python",
   "nbconvert_exporter": "python",
   "pygments_lexer": "ipython3",
   "version": "3.9.12"
  }
 },
 "nbformat": 4,
 "nbformat_minor": 5
}
