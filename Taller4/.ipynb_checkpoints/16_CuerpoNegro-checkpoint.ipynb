{
 "cells": [
  {
   "cell_type": "code",
   "execution_count": 2,
   "id": "f778d283",
   "metadata": {},
   "outputs": [],
   "source": [
    "import numpy as np\n",
    "import matplotlib.pyplot as plt\n",
    "import sympy as sym"
   ]
  },
  {
   "cell_type": "code",
   "execution_count": 4,
   "id": "a0463503",
   "metadata": {},
   "outputs": [
    {
     "data": {
      "text/latex": [
       "$\\displaystyle \\int\\limits_{1}^{2} \\frac{x^{3}}{e^{x} - 1}\\, dx$"
      ],
      "text/plain": [
       "Integral(x**3/(exp(x) - 1), (x, 1, 2))"
      ]
     },
     "execution_count": 4,
     "metadata": {},
     "output_type": "execute_result"
    }
   ],
   "source": [
    "x = sym.Symbol('x',Real=True)\n",
    "f = (x**3)/(sym.exp(x)-1)\n",
    "lf = sym.lambdify([x],f,\"numpy\" )\n",
    "a = 1\n",
    "b = 2\n",
    "n=3\n",
    "part = np.linspace(1,2,n)\n",
    "sym.integrate(f,(x,1,2))"
   ]
  },
  {
   "cell_type": "code",
   "execution_count": null,
   "id": "bdc58ed3",
   "metadata": {},
   "outputs": [],
   "source": [
    "def Legendre(n):\n",
    "    \n",
    "    y = (x**2-1)**n\n",
    "    \n",
    "    p = sym.diff(y,x,n)/(2**n * np.math.factorial(n))\n",
    "    \n",
    "    return p\n",
    "\n",
    "def Raices(f, domX, d=6):\n",
    "    raices = []\n",
    "    i=1\n",
    "    raiz = None\n",
    "    while (raiz != False) and (i <= len(domX)):\n",
    "        x_1 = domX[n-i]\n",
    "        raizNueva = round(NewtonRaphson(f,x_1),d)\n",
    "        if raizNueva not in raices:\n",
    "            raices.append(raizNueva)\n",
    "        i+=1\n",
    "    return raices\n",
    "\n",
    "def Derivative(f,x,h=1e-6):\n",
    "    return (f(x+h)-f(x-h))/(2*h)\n",
    "    \n",
    "\n",
    "def NewtonRaphson(f,x_1,lim=100):\n",
    "    iteraciones = 0\n",
    "    while (round(f(x_1),6) != 0) and (iteraciones <= lim):\n",
    "        x_1 = x_1 - (f(x_1)/Derivative(f,x_1))\n",
    "        iteraciones += 1\n",
    "    \n",
    "    if iteraciones > lim:\n",
    "        return False\n",
    "    else:\n",
    "        return x_1\n",
    "    \n",
    "def GaussLagIntegrate(f,a,b,n,Part):\n",
    "    domLeg = np.linspace(-1,1,100)\n",
    "    sP = Legendre(n)\n",
    "    P = sym.lambdify([x], sP, \"numpy\")\n",
    "    roots = sorted(Raices(P, domLeg,d=5))\n",
    "    weights = []\n",
    "\n",
    "    for k in range(n):\n",
    "        w_k = 2/((1- roots[k]**2)*(Derivative(P,roots[k]))**2)\n",
    "        print(w_k)\n",
    "        weights.append(w_k)\n",
    "        \n",
    "    I = 0.5*(b-a)\n",
    "    suma = 0\n",
    "    \n",
    "    for k in range(n):\n",
    "        w_k = weights[k]\n",
    "        r_k = roots[k]\n",
    "        t_k = 0.5*((b-a)*r_k + a + b )\n",
    "        term = w_k * f(t_k)\n",
    "        suma += term\n",
    "    \n",
    "    I *= suma\n",
    "    \n",
    "    return I"
   ]
  }
 ],
 "metadata": {
  "kernelspec": {
   "display_name": "Python 3 (ipykernel)",
   "language": "python",
   "name": "python3"
  },
  "language_info": {
   "codemirror_mode": {
    "name": "ipython",
    "version": 3
   },
   "file_extension": ".py",
   "mimetype": "text/x-python",
   "name": "python",
   "nbconvert_exporter": "python",
   "pygments_lexer": "ipython3",
   "version": "3.9.12"
  }
 },
 "nbformat": 4,
 "nbformat_minor": 5
}
