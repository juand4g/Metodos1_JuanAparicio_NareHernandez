{
 "cells": [
  {
   "cell_type": "code",
   "execution_count": 57,
   "id": "a5de19e5",
   "metadata": {},
   "outputs": [],
   "source": [
    "import numpy as np\n",
    "import matplotlib.pyplot as plt\n",
    "import sympy as sym"
   ]
  },
  {
   "cell_type": "code",
   "execution_count": 58,
   "id": "b4803c0b",
   "metadata": {},
   "outputs": [
    {
     "data": {
      "text/latex": [
       "$\\displaystyle 0.421350396474857 \\sqrt{\\pi}$"
      ],
      "text/plain": [
       "0.421350396474857*sqrt(pi)"
      ]
     },
     "execution_count": 58,
     "metadata": {},
     "output_type": "execute_result"
    }
   ],
   "source": [
    "f = lambda x: np.e**(-x**2)\n",
    "x = sym.Symbol(\"x\", Real=True)\n",
    "a = 0.0\n",
    "b = 1.0\n",
    "n = 3\n",
    "h = (b-a)/n\n",
    "dom = np.linspace(a,b,n)\n",
    "sym.integrate(sym.exp(-x**2), (x,a,b))"
   ]
  },
  {
   "cell_type": "code",
   "execution_count": 59,
   "id": "57aa4d71",
   "metadata": {},
   "outputs": [
    {
     "data": {
      "text/plain": [
       "0.7468241328124262"
      ]
     },
     "execution_count": 59,
     "metadata": {},
     "output_type": "execute_result"
    }
   ],
   "source": [
    "canonI = (0.421350396474857*np.sqrt(np.pi))\n",
    "canonI"
   ]
  },
  {
   "cell_type": "code",
   "execution_count": 60,
   "id": "91b564b6",
   "metadata": {},
   "outputs": [],
   "source": [
    "def SimpsonIntegrate(f,a,b):\n",
    "    x_m = ((2*a) + b)/3\n",
    "    x_n = (a + (2*b))/3\n",
    "    return (3*h/8) * (f(a) + 3*f(x_m) + 3*f(x_n) + f(b))"
   ]
  },
  {
   "cell_type": "code",
   "execution_count": 61,
   "id": "a4cd2bed",
   "metadata": {},
   "outputs": [],
   "source": [
    "x_m = ((2*a) + b)/3\n",
    "x_n = (a + (2*b))/3"
   ]
  },
  {
   "cell_type": "code",
   "execution_count": 62,
   "id": "89b77858",
   "metadata": {},
   "outputs": [
    {
     "data": {
      "text/plain": [
       "1.0"
      ]
     },
     "execution_count": 62,
     "metadata": {},
     "output_type": "execute_result"
    }
   ],
   "source": [
    "f(a)"
   ]
  },
  {
   "cell_type": "code",
   "execution_count": 63,
   "id": "98d49fba",
   "metadata": {},
   "outputs": [
    {
     "data": {
      "text/plain": [
       "0.8948393168143698"
      ]
     },
     "execution_count": 63,
     "metadata": {},
     "output_type": "execute_result"
    }
   ],
   "source": [
    "f(x_m)"
   ]
  },
  {
   "cell_type": "code",
   "execution_count": 64,
   "id": "a59146d0",
   "metadata": {},
   "outputs": [
    {
     "data": {
      "text/plain": [
       "0.6411803884299546"
      ]
     },
     "execution_count": 64,
     "metadata": {},
     "output_type": "execute_result"
    }
   ],
   "source": [
    "f(x_n)"
   ]
  },
  {
   "cell_type": "code",
   "execution_count": 65,
   "id": "ef52b15e",
   "metadata": {},
   "outputs": [
    {
     "data": {
      "text/plain": [
       "0.36787944117144233"
      ]
     },
     "execution_count": 65,
     "metadata": {},
     "output_type": "execute_result"
    }
   ],
   "source": [
    "f(b)"
   ]
  },
  {
   "cell_type": "code",
   "execution_count": 66,
   "id": "c040398b",
   "metadata": {},
   "outputs": [
    {
     "data": {
      "text/plain": [
       "0.7469923196130519"
      ]
     },
     "execution_count": 66,
     "metadata": {},
     "output_type": "execute_result"
    }
   ],
   "source": [
    "SimpsonIntegrate(f,a,b)"
   ]
  },
  {
   "cell_type": "code",
   "execution_count": 67,
   "id": "00aaad45",
   "metadata": {},
   "outputs": [
    {
     "data": {
      "text/plain": [
       "0.00016818680062569147"
      ]
     },
     "execution_count": 67,
     "metadata": {},
     "output_type": "execute_result"
    }
   ],
   "source": [
    "#ERROR\n",
    "E = np.abs(Isimpson - canonI)\n",
    "E"
   ]
  },
  {
   "cell_type": "code",
   "execution_count": 68,
   "id": "005713fb",
   "metadata": {},
   "outputs": [
    {
     "data": {
      "text/plain": [
       "<matplotlib.legend.Legend at 0x1d51ab03670>"
      ]
     },
     "execution_count": 68,
     "metadata": {},
     "output_type": "execute_result"
    },
    {
     "data": {
      "image/png": "[encoded data removed]",
      "text/plain": [
       "<Figure size 432x288 with 1 Axes>"
      ]
     },
     "metadata": {
      "needs_background": "light"
     },
     "output_type": "display_data"
    }
   ],
   "source": [
    "cdom = np.linspace(0,1,100)\n",
    "plt.plot(cdom,f(cdom), label=\"Función\", color=\"#000000\")\n",
    "plt.scatter(dom,f(dom),label=\"Discretización\")\n",
    "plt.scatter(x_m,f(x_m), color=\"r\", label=\"Punto intermedio 1\")\n",
    "plt.scatter(x_n,f(x_n),color=\"#ff6600\", label=\"Punto intermedio 2\")\n",
    "plt.legend()"
   ]
  }
 ],
 "metadata": {
  "kernelspec": {
   "display_name": "Python 3 (ipykernel)",
   "language": "python",
   "name": "python3"
  },
  "language_info": {
   "codemirror_mode": {
    "name": "ipython",
    "version": 3
   },
   "file_extension": ".py",
   "mimetype": "text/x-python",
   "name": "python",
   "nbconvert_exporter": "python",
   "pygments_lexer": "ipython3",
   "version": "3.9.12"
  }
 },
 "nbformat": 4,
 "nbformat_minor": 5
}
