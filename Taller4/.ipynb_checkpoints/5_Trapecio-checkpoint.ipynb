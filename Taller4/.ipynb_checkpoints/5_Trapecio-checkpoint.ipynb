{
 "cells": [
  {
   "cell_type": "code",
   "execution_count": 20,
   "id": "ef6b8ca4",
   "metadata": {},
   "outputs": [],
   "source": [
    "import numpy as np\n",
    "import matplotlib.pyplot as plt\n",
    "import sympy as sym"
   ]
  },
  {
   "cell_type": "code",
   "execution_count": 28,
   "id": "c9ee6de1",
   "metadata": {},
   "outputs": [
    {
     "data": {
      "text/latex": [
       "$\\displaystyle 0.421350396474857 \\sqrt{\\pi}$"
      ],
      "text/plain": [
       "0.421350396474857*sqrt(pi)"
      ]
     },
     "execution_count": 28,
     "metadata": {},
     "output_type": "execute_result"
    }
   ],
   "source": [
    "f = lambda x: np.e**(-x**2)\n",
    "x = sym.Symbol(\"x\", Real=True)\n",
    "a = 0.0\n",
    "b = 1.0\n",
    "dom = np.linspace(a,b,100)\n",
    "h = dom[1]-dom[0]\n",
    "sym.integrate(sym.exp(-x**2), (x,a,b))"
   ]
  },
  {
   "cell_type": "code",
   "execution_count": 16,
   "id": "1476d818",
   "metadata": {},
   "outputs": [
    {
     "data": {
      "text/plain": [
       "0.750533830927645"
      ]
     },
     "execution_count": 16,
     "metadata": {},
     "output_type": "execute_result"
    }
   ],
   "source": [
    "#INTEGRAL POR TRAPECIO COMPUESTO\n",
    "Ic = (h*0.5) * (f(a) + f(b))\n",
    "\n",
    "for i in range(1,len(dom)):\n",
    "    temp = h*f(dom[i])\n",
    "    Ic += temp\n",
    "    \n",
    "Ic"
   ]
  },
  {
   "cell_type": "code",
   "execution_count": 29,
   "id": "357f9855",
   "metadata": {},
   "outputs": [
    {
     "data": {
      "text/plain": [
       "0.42344336950957023"
      ]
     },
     "execution_count": 29,
     "metadata": {},
     "output_type": "execute_result"
    }
   ],
   "source": [
    "Ic/(np.sqrt(np.pi))"
   ]
  },
  {
   "cell_type": "code",
   "execution_count": 32,
   "id": "f9cca3a4",
   "metadata": {},
   "outputs": [
    {
     "data": {
      "text/plain": [
       "0.003709698115218818"
      ]
     },
     "execution_count": 32,
     "metadata": {},
     "output_type": "execute_result"
    }
   ],
   "source": [
    "#ERROR\n",
    "E = np.abs((0.421350396474857*np.sqrt(np.pi)) - Ic)\n",
    "E"
   ]
  },
  {
   "cell_type": "markdown",
   "id": "c7f0e74d",
   "metadata": {},
   "source": [
    "Se pudo obtener un resultado con un error menor a 0.005."
   ]
  }
 ],
 "metadata": {
  "kernelspec": {
   "display_name": "Python 3 (ipykernel)",
   "language": "python",
   "name": "python3"
  },
  "language_info": {
   "codemirror_mode": {
    "name": "ipython",
    "version": 3
   },
   "file_extension": ".py",
   "mimetype": "text/x-python",
   "name": "python",
   "nbconvert_exporter": "python",
   "pygments_lexer": "ipython3",
   "version": "3.9.12"
  }
 },
 "nbformat": 4,
 "nbformat_minor": 5
}
