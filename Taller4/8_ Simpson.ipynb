{
 "cells": [
  {
   "cell_type": "code",
   "execution_count": 141,
   "id": "a5de19e5",
   "metadata": {},
   "outputs": [],
   "source": [
    "import numpy as np\n",
    "import matplotlib.pyplot as plt\n",
    "import sympy as sym"
   ]
  },
  {
   "cell_type": "markdown",
   "id": "3741d8fb",
   "metadata": {},
   "source": [
    "$$ Discretización = \\{0,h,2h,3h\\} $$\n",
    "\n",
    "El polinomio de interpolación está definido por:\n",
    "$$ p(x) = f(x_0)l_0(x)+...+f(x_n)l_n(x) $$\n",
    "\n",
    "donde $f({x_i})$ es la imagen de ${x_i}$ en la función a interpolar y $l_i(x)$ son las funciones cardinales."
   ]
  },
  {
   "cell_type": "code",
   "execution_count": 142,
   "id": "cfefbadc",
   "metadata": {},
   "outputs": [],
   "source": [
    "f = sym.Function(\"f\", positive = True)\n",
    "\n",
    "d = np.array([0,h,2*h,3*h])\n",
    "\n",
    "h = sym.Symbol(\"h\", Real=True)\n",
    "x = sym.Symbol(\"x\", Real=True)\n",
    "a = sym.Symbol(\"a\", Real=True)\n",
    "b = sym.Symbol(\"b\", Real=True)\n",
    "\n",
    "def cardinales(x,d):\n",
    "    \"\"\"x es el símbolo que se tomará como variable y d el arreglo de los valores de la discretización.\n",
    "    \"\"\"\n",
    "    Ls = []\n",
    "    for i in range(len(d)):\n",
    "        L_i = 1\n",
    "        for j in range(len(d)):\n",
    "            if j!=i:\n",
    "                L_i *= (x-d[j])/(d[i]-d[j])\n",
    "        Ls.append(L_i)\n",
    "\n",
    "    Li = np.array(Ls)\n",
    "    Li = sym.simplify(Li)\n",
    "    \n",
    "    return Li"
   ]
  },
  {
   "cell_type": "code",
   "execution_count": 143,
   "id": "5acfc3e3",
   "metadata": {},
   "outputs": [],
   "source": [
    "Li = cardinales(x,d)"
   ]
  },
  {
   "cell_type": "code",
   "execution_count": 144,
   "id": "c083f1a0",
   "metadata": {},
   "outputs": [
    {
     "data": {
      "text/latex": [
       "$\\displaystyle \\frac{\\left(h - x\\right) \\left(2 h - x\\right) \\left(3 h - x\\right)}{6 h^{3}}$"
      ],
      "text/plain": [
       "(h - x)*(2*h - x)*(3*h - x)/(6*h**3)"
      ]
     },
     "execution_count": 144,
     "metadata": {},
     "output_type": "execute_result"
    }
   ],
   "source": [
    "Li[0]"
   ]
  },
  {
   "cell_type": "code",
   "execution_count": 145,
   "id": "87bffe23",
   "metadata": {},
   "outputs": [
    {
     "data": {
      "text/latex": [
       "$\\displaystyle \\frac{x \\left(2 h - x\\right) \\left(3 h - x\\right)}{2 h^{3}}$"
      ],
      "text/plain": [
       "x*(2*h - x)*(3*h - x)/(2*h**3)"
      ]
     },
     "execution_count": 145,
     "metadata": {},
     "output_type": "execute_result"
    }
   ],
   "source": [
    "Li[1]"
   ]
  },
  {
   "cell_type": "code",
   "execution_count": 146,
   "id": "3280a4a1",
   "metadata": {},
   "outputs": [
    {
     "data": {
      "text/latex": [
       "$\\displaystyle - \\frac{x \\left(h - x\\right) \\left(3 h - x\\right)}{2 h^{3}}$"
      ],
      "text/plain": [
       "-x*(h - x)*(3*h - x)/(2*h**3)"
      ]
     },
     "execution_count": 146,
     "metadata": {},
     "output_type": "execute_result"
    }
   ],
   "source": [
    "Li[2]"
   ]
  },
  {
   "cell_type": "code",
   "execution_count": 147,
   "id": "e4c4fa18",
   "metadata": {},
   "outputs": [
    {
     "data": {
      "text/latex": [
       "$\\displaystyle \\frac{x \\left(h - x\\right) \\left(2 h - x\\right)}{6 h^{3}}$"
      ],
      "text/plain": [
       "x*(h - x)*(2*h - x)/(6*h**3)"
      ]
     },
     "execution_count": 147,
     "metadata": {},
     "output_type": "execute_result"
    }
   ],
   "source": [
    "Li[3]"
   ]
  },
  {
   "cell_type": "code",
   "execution_count": 134,
   "id": "5fc5f9b0",
   "metadata": {},
   "outputs": [
    {
     "data": {
      "text/latex": [
       "$\\displaystyle f{\\left(0 \\right)} - \\frac{11 x f{\\left(0 \\right)}}{6 h} + \\frac{3 x f{\\left(h \\right)}}{h} - \\frac{3 x f{\\left(2 h \\right)}}{2 h} + \\frac{x f{\\left(3 h \\right)}}{3 h} + \\frac{x^{2} f{\\left(0 \\right)}}{h^{2}} - \\frac{5 x^{2} f{\\left(h \\right)}}{2 h^{2}} + \\frac{2 x^{2} f{\\left(2 h \\right)}}{h^{2}} - \\frac{x^{2} f{\\left(3 h \\right)}}{2 h^{2}} - \\frac{x^{3} f{\\left(0 \\right)}}{6 h^{3}} + \\frac{x^{3} f{\\left(h \\right)}}{2 h^{3}} - \\frac{x^{3} f{\\left(2 h \\right)}}{2 h^{3}} + \\frac{x^{3} f{\\left(3 h \\right)}}{6 h^{3}}$"
      ],
      "text/plain": [
       "f(0) - 11*x*f(0)/(6*h) + 3*x*f(h)/h - 3*x*f(2*h)/(2*h) + x*f(3*h)/(3*h) + x**2*f(0)/h**2 - 5*x**2*f(h)/(2*h**2) + 2*x**2*f(2*h)/h**2 - x**2*f(3*h)/(2*h**2) - x**3*f(0)/(6*h**3) + x**3*f(h)/(2*h**3) - x**3*f(2*h)/(2*h**3) + x**3*f(3*h)/(6*h**3)"
      ]
     },
     "execution_count": 134,
     "metadata": {},
     "output_type": "execute_result"
    }
   ],
   "source": [
    "p = f(0)*Li[0] + f(h)*Li[1] + f(2*h)*Li[2] + f(3*h)*Li[3]\n",
    "p = sym.expand(p)\n",
    "p "
   ]
  },
  {
   "cell_type": "code",
   "execution_count": 133,
   "id": "bc08a8ba",
   "metadata": {},
   "outputs": [
    {
     "data": {
      "text/latex": [
       "$\\displaystyle \\frac{a^{4} f{\\left(0 \\right)}}{24 h^{3}} - \\frac{a^{4} f{\\left(h \\right)}}{8 h^{3}} + \\frac{a^{4} f{\\left(2 h \\right)}}{8 h^{3}} - \\frac{a^{4} f{\\left(3 h \\right)}}{24 h^{3}} - \\frac{a^{3} f{\\left(0 \\right)}}{3 h^{2}} + \\frac{5 a^{3} f{\\left(h \\right)}}{6 h^{2}} - \\frac{2 a^{3} f{\\left(2 h \\right)}}{3 h^{2}} + \\frac{a^{3} f{\\left(3 h \\right)}}{6 h^{2}} + \\frac{11 a^{2} f{\\left(0 \\right)}}{12 h} - \\frac{3 a^{2} f{\\left(h \\right)}}{2 h} + \\frac{3 a^{2} f{\\left(2 h \\right)}}{4 h} - \\frac{a^{2} f{\\left(3 h \\right)}}{6 h} - a f{\\left(0 \\right)} - \\frac{b^{4} f{\\left(0 \\right)}}{24 h^{3}} + \\frac{b^{4} f{\\left(h \\right)}}{8 h^{3}} - \\frac{b^{4} f{\\left(2 h \\right)}}{8 h^{3}} + \\frac{b^{4} f{\\left(3 h \\right)}}{24 h^{3}} + \\frac{b^{3} f{\\left(0 \\right)}}{3 h^{2}} - \\frac{5 b^{3} f{\\left(h \\right)}}{6 h^{2}} + \\frac{2 b^{3} f{\\left(2 h \\right)}}{3 h^{2}} - \\frac{b^{3} f{\\left(3 h \\right)}}{6 h^{2}} - \\frac{11 b^{2} f{\\left(0 \\right)}}{12 h} + \\frac{3 b^{2} f{\\left(h \\right)}}{2 h} - \\frac{3 b^{2} f{\\left(2 h \\right)}}{4 h} + \\frac{b^{2} f{\\left(3 h \\right)}}{6 h} + b f{\\left(0 \\right)}$"
      ],
      "text/plain": [
       "a**4*f(0)/(24*h**3) - a**4*f(h)/(8*h**3) + a**4*f(2*h)/(8*h**3) - a**4*f(3*h)/(24*h**3) - a**3*f(0)/(3*h**2) + 5*a**3*f(h)/(6*h**2) - 2*a**3*f(2*h)/(3*h**2) + a**3*f(3*h)/(6*h**2) + 11*a**2*f(0)/(12*h) - 3*a**2*f(h)/(2*h) + 3*a**2*f(2*h)/(4*h) - a**2*f(3*h)/(6*h) - a*f(0) - b**4*f(0)/(24*h**3) + b**4*f(h)/(8*h**3) - b**4*f(2*h)/(8*h**3) + b**4*f(3*h)/(24*h**3) + b**3*f(0)/(3*h**2) - 5*b**3*f(h)/(6*h**2) + 2*b**3*f(2*h)/(3*h**2) - b**3*f(3*h)/(6*h**2) - 11*b**2*f(0)/(12*h) + 3*b**2*f(h)/(2*h) - 3*b**2*f(2*h)/(4*h) + b**2*f(3*h)/(6*h) + b*f(0)"
      ]
     },
     "execution_count": 133,
     "metadata": {},
     "output_type": "execute_result"
    }
   ],
   "source": [
    "I = sym.integrate(p,(x,a,b))\n",
    "I = sym.expand(I)\n",
    "I"
   ]
  },
  {
   "cell_type": "markdown",
   "id": "1d1f5249",
   "metadata": {},
   "source": [
    "Dado que los primer y último término de la discretización son a y b respectivamente, se tiene que $x_0 = a$ y $x_3 = b$\n",
    "\n",
    "Y partiendo de que la discretización es equivalentemente espaciada, se obtiene que\n",
    "$$x_1 = x_0 + h$$\n",
    "$$x_2 = x_1 + h$$\n",
    "y dado que $h=\\frac{b-a}{3}$ obtenemos que:\n",
    "$$x_1 = a + \\frac{b-a}{3}$$\n",
    "$$x_1 = \\frac{3a+b-a}{3}$$\n",
    "$$x_1 = \\frac{2a+b}{3}$$\n",
    "e igualmente:\n",
    "$$x_2 = \\frac{2a+b}{3} + \\frac{b-a}{3}$$\n",
    "$$x_2 = \\frac{2a+b+b-a}{3}$$\n",
    "$$x_2 = \\frac{a+2b}{3}$$"
   ]
  }
 ],
 "metadata": {
  "kernelspec": {
   "display_name": "Python 3 (ipykernel)",
   "language": "python",
   "name": "python3"
  },
  "language_info": {
   "codemirror_mode": {
    "name": "ipython",
    "version": 3
   },
   "file_extension": ".py",
   "mimetype": "text/x-python",
   "name": "python",
   "nbconvert_exporter": "python",
   "pygments_lexer": "ipython3",
   "version": "3.9.12"
  }
 },
 "nbformat": 4,
 "nbformat_minor": 5
}
