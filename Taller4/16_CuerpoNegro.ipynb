{
 "cells": [
  {
   "cell_type": "code",
   "execution_count": 100,
   "id": "f778d283",
   "metadata": {},
   "outputs": [],
   "source": [
    "import numpy as np\n",
    "import matplotlib.pyplot as plt\n",
    "import sympy as sym"
   ]
  },
  {
   "cell_type": "markdown",
   "id": "a0ae3626",
   "metadata": {},
   "source": [
    "La integración usando la cuadratura de Gauss-Laguerre está pensada para una integral de la forma $ \\int_{0}^{\\infty}e^{-x}f(x)\\,\\mathrm{d}x $.\n",
    "\n",
    "Por lo tanto, ya que se quiere obtener el valor de una integral de la forma $ \\int_{0}^{\\infty}f(x)\\,\\mathrm{d}x $, se tiene que introducir una función $ g(x) $ donde:\n",
    "$$ g(x) = e^{x}f(x) $$\n",
    "de modo que se pueda resolver de la forma:\n",
    "$$ \\int_{0}^{\\infty}e^{-x}g(x)\\,\\mathrm{d}x $$\n",
    "nótese que $ e^{-x}g(x) = e^{-x}e^{x}f(x) = f(x) $."
   ]
  },
  {
   "cell_type": "code",
   "execution_count": 101,
   "id": "a0463503",
   "metadata": {},
   "outputs": [
    {
     "data": {
      "text/latex": [
       "$\\displaystyle \\frac{\\pi^{4}}{15}$"
      ],
      "text/plain": [
       "pi**4/15"
      ]
     },
     "execution_count": 101,
     "metadata": {},
     "output_type": "execute_result"
    }
   ],
   "source": [
    "x = sym.Symbol('x',Real=True)\n",
    "\n",
    "#Se define la función f(x) a integrar y la función g(x) a partir de esta (de forma simbólica y lambda).\n",
    "f = (x**3)/(sym.exp(x)-1)\n",
    "g = sym.exp(x)*((x**3)/(sym.exp(x)-1))\n",
    "lg = sym.lambdify([x],g,\"numpy\")\n",
    "lf = sym.lambdify([x],f,\"numpy\" )\n",
    "\n",
    "#Se calcula la Integral exacta para compararla con los resultados obtenidos.\n",
    "Iexacta = np.pi**4 / 15\n",
    "sym.pi**4/15"
   ]
  },
  {
   "cell_type": "code",
   "execution_count": 102,
   "id": "c7ffa001",
   "metadata": {},
   "outputs": [
    {
     "data": {
      "text/plain": [
       "6.493939402266828"
      ]
     },
     "execution_count": 102,
     "metadata": {},
     "output_type": "execute_result"
    }
   ],
   "source": [
    "Iexacta"
   ]
  },
  {
   "cell_type": "code",
   "execution_count": 103,
   "id": "bdc58ed3",
   "metadata": {},
   "outputs": [],
   "source": [
    "def Laguerre(n):\n",
    "    \"\"\"\n",
    "    Retorna el polinomio de grado n-esimo de Laguerre (simbolico).\n",
    "    \"\"\"\n",
    "    \n",
    "    x = sym.Symbol('x',Real=True)\n",
    "    y = sym.Symbol('y',Real=True)\n",
    "    \n",
    "    y = (np.e**(-x))*(x**n)\n",
    "    \n",
    "    p = (sym.diff(y,x,n)/(np.math.factorial(n)))*np.e**x\n",
    "    \n",
    "    return p\n",
    "\n",
    "def Raices(f, domX, d=6):\n",
    "    raices = []\n",
    "    i=1\n",
    "    raiz = None\n",
    "    while (raiz != False) and (i <= len(domX)):\n",
    "        x_1 = domX[n-i]\n",
    "        raizNueva = round(NewtonRaphson(f,x_1),d)\n",
    "        if raizNueva not in raices:\n",
    "            raices.append(raizNueva)\n",
    "        i+=1\n",
    "    return raices\n",
    "\n",
    "def Derivative(f,x,h=1e-6):\n",
    "    return (f(x+h)-f(x-h))/(2*h)\n",
    "    \n",
    "\n",
    "def NewtonRaphson(f,x_1,lim=100):\n",
    "    iteraciones = 0\n",
    "    while (round(f(x_1),6) != 0) and (iteraciones <= lim):\n",
    "        x_1 = x_1 - (f(x_1)/Derivative(f,x_1))\n",
    "        iteraciones += 1\n",
    "    \n",
    "    if iteraciones > lim:\n",
    "        return False\n",
    "    else:\n",
    "        return x_1\n",
    "    \n",
    "def GaussLaguerreIntegrate(f,n):\n",
    "    \"\"\"\n",
    "    Recibe una función de la forma (e**(-x))f(x) para integrarla para (a,b) = (0, infinito).\n",
    "    \"\"\"\n",
    "    domLag = np.linspace(0,80,200)\n",
    "    sP = Laguerre(n)\n",
    "    sP2 = Laguerre(n+1)\n",
    "    P2 = sym.lambdify([x], sP2, \"numpy\")\n",
    "    P = sym.lambdify([x], sP, \"numpy\")\n",
    "    roots = sorted(Raices(P, domLag,d=5))\n",
    "    weights = []\n",
    "\n",
    "    for k in range(n):\n",
    "        w_k = roots[k] / ( ((n+1)**2)*(P2(roots[k]))**2 )\n",
    "        weights.append(w_k)\n",
    "        \n",
    "    I = 0\n",
    "    \n",
    "    for k in range(n):\n",
    "        w_k = weights[k]\n",
    "        r_k = roots[k]\n",
    "        term = w_k * f(r_k)\n",
    "        I += term\n",
    "    \n",
    "    return I"
   ]
  },
  {
   "cell_type": "code",
   "execution_count": 104,
   "id": "cddbf1c6",
   "metadata": {},
   "outputs": [],
   "source": [
    "Inn = []\n",
    "ns = np.linspace(2,10,9)\n",
    "\n",
    "for n in range(2,11):\n",
    "    I = GaussLaguerreIntegrate(lg,n)\n",
    "    Inn.append(I)\n",
    "    \n",
    "In = np.array(Inn)"
   ]
  },
  {
   "cell_type": "code",
   "execution_count": 106,
   "id": "ee96397a",
   "metadata": {},
   "outputs": [
    {
     "data": {
      "text/plain": [
       "<matplotlib.legend.Legend at 0x1feb172ae20>"
      ]
     },
     "execution_count": 106,
     "metadata": {},
     "output_type": "execute_result"
    },
    {
     "data": {
      "image/png": "[encoded data removed]",
      "text/plain": [
       "<Figure size 432x288 with 1 Axes>"
      ]
     },
     "metadata": {
      "needs_background": "light"
     },
     "output_type": "display_data"
    }
   ],
   "source": [
    "#ERROR RELATIVO\n",
    "plt.scatter(ns,(In/Iexacta),label=\"Exactitud de cuadratura de Laguerre\", color=\"#0000FF\")\n",
    "plt.grid()\n",
    "plt.xlabel(\"n\", size = 16,)\n",
    "plt.ylabel(\"Error relativo\", size = 16)\n",
    "plt.legend()"
   ]
  }
 ],
 "metadata": {
  "kernelspec": {
   "display_name": "Python 3 (ipykernel)",
   "language": "python",
   "name": "python3"
  },
  "language_info": {
   "codemirror_mode": {
    "name": "ipython",
    "version": 3
   },
   "file_extension": ".py",
   "mimetype": "text/x-python",
   "name": "python",
   "nbconvert_exporter": "python",
   "pygments_lexer": "ipython3",
   "version": "3.9.12"
  }
 },
 "nbformat": 4,
 "nbformat_minor": 5
}
