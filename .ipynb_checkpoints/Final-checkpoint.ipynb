{
 "cells": [
  {
   "cell_type": "markdown",
   "id": "d93ec70e",
   "metadata": {},
   "source": [
    "## EXAMEN FINAL"
   ]
  },
  {
   "cell_type": "code",
   "execution_count": 1,
   "id": "ba537ce8",
   "metadata": {},
   "outputs": [],
   "source": [
    "import numpy as np\n",
    "from matplotlib import pyplot as plt\n",
    "from tqdm import tqdm\n",
    "from itertools import permutations\n",
    "from itertools import combinations\n",
    "from itertools import combinations_with_replacement"
   ]
  },
  {
   "cell_type": "code",
   "execution_count": 2,
   "id": "9fcce519",
   "metadata": {},
   "outputs": [],
   "source": [
    "visible = np.array([0,1]) #0 cara, 1 sello\n",
    "hidden = np.array([0,1])  #0 justa, 1 sesgada\n",
    "prior = np.array([0.2,0.8]) #moneda Justa y Sesgada\n",
    "\n",
    "n = 8 #número de lanzamientos\n",
    "\n",
    "T = np.array([[0.8,0.2],[0.2,0.8]])\n",
    "E = np.array([[0.5,0.9],[0.5,0.1]])"
   ]
  },
  {
   "cell_type": "code",
   "execution_count": 3,
   "id": "0e780ba3",
   "metadata": {},
   "outputs": [
    {
     "data": {
      "text/plain": [
       "array([[0.8, 0.2],\n",
       "       [0.2, 0.8]])"
      ]
     },
     "execution_count": 3,
     "metadata": {},
     "output_type": "execute_result"
    }
   ],
   "source": [
    "T"
   ]
  },
  {
   "cell_type": "code",
   "execution_count": 4,
   "id": "6c036ece",
   "metadata": {},
   "outputs": [
    {
     "data": {
      "text/plain": [
       "array([[0.5, 0.9],\n",
       "       [0.5, 0.1]])"
      ]
     },
     "execution_count": 4,
     "metadata": {},
     "output_type": "execute_result"
    }
   ],
   "source": [
    "E"
   ]
  },
  {
   "cell_type": "code",
   "execution_count": 5,
   "id": "ff51b17a",
   "metadata": {},
   "outputs": [],
   "source": [
    "def GetStates(States, N):\n",
    "    \n",
    "    CStates = list( combinations_with_replacement(States,N) )\n",
    "    \n",
    "    Permu = []\n",
    "    \n",
    "    for it in CStates:\n",
    "        p = list(permutations(it,N))\n",
    "        \n",
    "        for i in p:\n",
    "            if i not in Permu:\n",
    "                Permu.append(i)\n",
    "\n",
    "    return np.array(Permu)"
   ]
  },
  {
   "cell_type": "code",
   "execution_count": 6,
   "id": "f4324d92",
   "metadata": {},
   "outputs": [],
   "source": [
    "def GetProb(T,E,Obs,Hid,Prior):\n",
    "    \n",
    "    n = len(Obs)\n",
    "    p = 1.\n",
    "    \n",
    "    p *= Prior[Hid[0]]\n",
    "    \n",
    "    for i in range(n-1):\n",
    "        p *= T[ Hid[i+1], Hid[i] ]\n",
    "    \n",
    "    \n",
    "    \n",
    "    for i in range(n):\n",
    "        p *= E[ Obs[i], Hid[i] ]\n",
    "    \n",
    "    return p"
   ]
  },
  {
   "cell_type": "code",
   "execution_count": 7,
   "id": "d3d12d91",
   "metadata": {},
   "outputs": [],
   "source": [
    "posHidden = GetStates(hidden,n)"
   ]
  },
  {
   "cell_type": "code",
   "execution_count": 8,
   "id": "00305613",
   "metadata": {},
   "outputs": [],
   "source": [
    "posObs = posHidden #Se igualan porque en ambos casos los posibles estados son permutaciones de 0 o 1 en 8 espacios."
   ]
  },
  {
   "cell_type": "code",
   "execution_count": 9,
   "id": "9030f814",
   "metadata": {},
   "outputs": [],
   "source": [
    "N = posHidden.shape[0] #Número de posibles estados\n",
    "\n",
    "P_o = np.zeros(N)\n",
    "P_h = np.zeros(N)"
   ]
  },
  {
   "cell_type": "markdown",
   "id": "855413d0",
   "metadata": {},
   "source": [
    "## Secuencia oculta más probable para el estado observado"
   ]
  },
  {
   "cell_type": "code",
   "execution_count": 10,
   "id": "25307bb9",
   "metadata": {},
   "outputs": [
    {
     "name": "stderr",
     "output_type": "stream",
     "text": [
      "100%|██████████| 256/256 [00:00<00:00, 42671.46it/s]\n"
     ]
    }
   ],
   "source": [
    "observed = np.array([1,0,0,0,1,0,1,0])\n",
    "\n",
    "for i in tqdm(range(N)):\n",
    "    P_h[i] = GetProb(T,E,observed,posHidden[i],prior)"
   ]
  },
  {
   "cell_type": "code",
   "execution_count": 11,
   "id": "85633d46",
   "metadata": {},
   "outputs": [
    {
     "data": {
      "text/plain": [
       "0.0001911029760000001"
      ]
     },
     "execution_count": 11,
     "metadata": {},
     "output_type": "execute_result"
    }
   ],
   "source": [
    "max_h = np.max(P_h)\n",
    "max_h"
   ]
  },
  {
   "cell_type": "code",
   "execution_count": 12,
   "id": "b76ff5b7",
   "metadata": {},
   "outputs": [
    {
     "data": {
      "text/plain": [
       "162"
      ]
     },
     "execution_count": 12,
     "metadata": {},
     "output_type": "execute_result"
    }
   ],
   "source": [
    "ih = np.where(P_h == np.amax(P_h))\n",
    "ih = ih[0][0]\n",
    "ih"
   ]
  },
  {
   "cell_type": "code",
   "execution_count": 13,
   "id": "3c3bb9d1",
   "metadata": {},
   "outputs": [
    {
     "data": {
      "text/plain": [
       "array([1, 1, 1, 1, 0, 0, 0, 0])"
      ]
     },
     "execution_count": 13,
     "metadata": {},
     "output_type": "execute_result"
    }
   ],
   "source": [
    "posHidden[ih]"
   ]
  },
  {
   "cell_type": "markdown",
   "id": "e0dcf53b",
   "metadata": {},
   "source": [
    "La secuencia oculta más probable para el estado observado\n",
    "$$\\Omega_O = \\left[ S,C,C,C,S,C,S,C \\right] $$\n",
    "\n",
    "a partir de la distribución de probabilidad a-priori\n",
    "\n",
    "$$\\pi = \\left[ 0.2,0.8 \\right]$$\n",
    "\n",
    "para la moneda justa (J) y sesgada (B) respectivamente, es:\n",
    "\n",
    "$$\\Omega_H = \\left[ B,B,B,B,J,J,J,J \\right] $$\n",
    "\n",
    "y la probabilidad de esta secuencia es de:\n",
    "\n",
    "$$0.0001911... \\approx 0.0002 $$\n",
    "\n",
    "ó\n",
    "\n",
    "$$0.02 \\% $$"
   ]
  },
  {
   "cell_type": "code",
   "execution_count": 14,
   "id": "8e5ac843",
   "metadata": {},
   "outputs": [
    {
     "data": {
      "text/plain": [
       "<matplotlib.legend.Legend at 0x194f6cb4e50>"
      ]
     },
     "execution_count": 14,
     "metadata": {},
     "output_type": "execute_result"
    },
    {
     "data": {
      "image/png": "[encoded data removed]",
      "text/plain": [
       "<Figure size 432x288 with 1 Axes>"
      ]
     },
     "metadata": {
      "needs_background": "light"
     },
     "output_type": "display_data"
    }
   ],
   "source": [
    "dom = np.linspace(0,255,256)\n",
    "\n",
    "plt.plot(dom,P_h,c=\"#000000\",label=\"Probabilidad por secuencia\")\n",
    "plt.scatter(ih,max_h,c=\"r\",label=\"Prob. máxima\")\n",
    "plt.title(\"Probabilidad de cada secuencia oculta para el estado $\\Omega_O $\")\n",
    "plt.grid()\n",
    "plt.legend()"
   ]
  },
  {
   "cell_type": "markdown",
   "id": "0bfcdec7",
   "metadata": {},
   "source": [
    "## Probabilidad de cada estado observable"
   ]
  },
  {
   "cell_type": "code",
   "execution_count": 15,
   "id": "39590e22",
   "metadata": {},
   "outputs": [
    {
     "name": "stderr",
     "output_type": "stream",
     "text": [
      "100%|██████████| 256/256 [00:01<00:00, 151.15it/s]\n"
     ]
    }
   ],
   "source": [
    "for i in tqdm(range(N)):\n",
    "    obs_ = posObs[i]\n",
    "    P_i = 0\n",
    "    for j in range(N):\n",
    "        P_i += GetProb(T,E,obs_,posHidden[j],prior)\n",
    "    P_o[i] = P_i"
   ]
  },
  {
   "cell_type": "code",
   "execution_count": 16,
   "id": "6a2145b1",
   "metadata": {},
   "outputs": [
    {
     "data": {
      "text/plain": [
       "1.0000000000000004"
      ]
     },
     "execution_count": 16,
     "metadata": {},
     "output_type": "execute_result"
    }
   ],
   "source": [
    "np.sum(P_o)"
   ]
  },
  {
   "cell_type": "code",
   "execution_count": 17,
   "id": "fce3888c",
   "metadata": {},
   "outputs": [
    {
     "data": {
      "text/plain": [
       "0.13698241367042568"
      ]
     },
     "execution_count": 17,
     "metadata": {},
     "output_type": "execute_result"
    }
   ],
   "source": [
    "max_o = np.max(P_o)\n",
    "io = np.where(P_o == np.amax(P_o))\n",
    "io = io[0][0]\n",
    "max_o"
   ]
  },
  {
   "cell_type": "code",
   "execution_count": 18,
   "id": "88ce132a",
   "metadata": {},
   "outputs": [
    {
     "data": {
      "text/plain": [
       "array([0, 0, 0, 0, 0, 0, 0, 0])"
      ]
     },
     "execution_count": 18,
     "metadata": {},
     "output_type": "execute_result"
    }
   ],
   "source": [
    "posObs[io]"
   ]
  },
  {
   "cell_type": "code",
   "execution_count": 19,
   "id": "b48b68d0",
   "metadata": {},
   "outputs": [
    {
     "data": {
      "text/plain": [
       "<matplotlib.legend.Legend at 0x194f6c3fee0>"
      ]
     },
     "execution_count": 19,
     "metadata": {},
     "output_type": "execute_result"
    },
    {
     "data": {
      "image/png": "[encoded data removed]",
      "text/plain": [
       "<Figure size 432x288 with 1 Axes>"
      ]
     },
     "metadata": {
      "needs_background": "light"
     },
     "output_type": "display_data"
    }
   ],
   "source": [
    "plt.plot(dom,P_o,c=\"#0000FF\",label=\"Probabilidad por secuencia\")\n",
    "plt.scatter(io,max_o,c=\"r\",label=\"Prob. máxima\")\n",
    "plt.title(\"Probabilidad de cada secuencia observable\")\n",
    "plt.grid()\n",
    "plt.legend()"
   ]
  },
  {
   "cell_type": "markdown",
   "id": "0834406d",
   "metadata": {},
   "source": [
    "Se obtuvo que la secuencia observable más probable es:\n",
    "$$\\Omega_O = \\left[ C,C,C,C,C,C,C,C \\right] $$\n",
    "\n",
    "con una probabilidad del 13.7%.\n",
    "\n",
    "Acorde a lo que indica la teoría, la suma de las probabilidades de todos los posibles estados observables fue de:\n",
    "\n",
    "$$1.0000000000000004\\approx1.0$$"
   ]
  },
  {
   "cell_type": "markdown",
   "id": "367dd127",
   "metadata": {},
   "source": [
    "A continuación, se hará el mismo procedimiento con una distribución de probabilidad a-priori distinta para evaluar si el resultado cambia. La distribución será:\n",
    "\n",
    "$$\\pi' = \\left[ 0.6,0.4 \\right]$$"
   ]
  },
  {
   "cell_type": "code",
   "execution_count": 20,
   "id": "974be811",
   "metadata": {},
   "outputs": [],
   "source": [
    "prior_ = np.array([0.6,0.4])\n",
    "P_o_ = np.zeros(N)"
   ]
  },
  {
   "cell_type": "code",
   "execution_count": 21,
   "id": "4ea8765c",
   "metadata": {},
   "outputs": [
    {
     "name": "stderr",
     "output_type": "stream",
     "text": [
      "100%|██████████| 256/256 [00:01<00:00, 152.43it/s]\n"
     ]
    },
    {
     "data": {
      "text/plain": [
       "1.0000000000000002"
      ]
     },
     "execution_count": 21,
     "metadata": {},
     "output_type": "execute_result"
    }
   ],
   "source": [
    "for i in tqdm(range(N)):\n",
    "    obs_ = posObs[i]\n",
    "    P_i = 0\n",
    "    for j in range(N):\n",
    "        P_i += GetProb(T,E,obs_,posHidden[j],prior_)\n",
    "    P_o_[i] = P_i\n",
    "    \n",
    "np.sum(P_o_)"
   ]
  },
  {
   "cell_type": "code",
   "execution_count": 22,
   "id": "e1c33e00",
   "metadata": {},
   "outputs": [
    {
     "data": {
      "text/plain": [
       "0.09031032525089286"
      ]
     },
     "execution_count": 22,
     "metadata": {},
     "output_type": "execute_result"
    }
   ],
   "source": [
    "max_o_ = np.max(P_o_)\n",
    "io_ = np.where(P_o_ == np.amax(P_o_))\n",
    "io_ = io_[0][0]\n",
    "max_o_"
   ]
  },
  {
   "cell_type": "code",
   "execution_count": 23,
   "id": "57553ef3",
   "metadata": {},
   "outputs": [
    {
     "data": {
      "text/plain": [
       "array([0, 0, 0, 0, 0, 0, 0, 0])"
      ]
     },
     "execution_count": 23,
     "metadata": {},
     "output_type": "execute_result"
    }
   ],
   "source": [
    "posObs[io_]"
   ]
  },
  {
   "cell_type": "code",
   "execution_count": 24,
   "id": "dcb52984",
   "metadata": {},
   "outputs": [
    {
     "data": {
      "text/plain": [
       "<matplotlib.legend.Legend at 0x194f6d2e790>"
      ]
     },
     "execution_count": 24,
     "metadata": {},
     "output_type": "execute_result"
    },
    {
     "data": {
      "image/png": "[encoded data removed]",
      "text/plain": [
       "<Figure size 432x288 with 1 Axes>"
      ]
     },
     "metadata": {
      "needs_background": "light"
     },
     "output_type": "display_data"
    }
   ],
   "source": [
    "plt.plot(dom,P_o_,c=\"#800080\",label=\"Probabilidad por secuencia\")\n",
    "plt.scatter(io_,max_o_,c=\"r\",label=\"Prob. máxima\")\n",
    "plt.title(\"Probabilidad de cada secuencia observable para distribución a-priori $\\pi'$\")\n",
    "plt.grid()\n",
    "plt.legend()"
   ]
  },
  {
   "cell_type": "markdown",
   "id": "558a530c",
   "metadata": {},
   "source": [
    "Con la nueva distribución a-priori, la suma de las probabilidades de todos los posibles estados observables siguió siendo de 1:\n",
    "\n",
    "$$1.0000000000000002\\approx1.0$$\n",
    "\n",
    "Adicionalmente, a pesar de que varias probabilidades cambiaron, la secuencia observable más probable siguió siendo la misma. Esta vez, se halló una probabilidad del 9.03% para dicha secuencia.\n",
    "\n",
    "De este modo se puede concluir que al cambiar la distribución de probabilidad a-priori, si bien las probabilidades halladas para cada caso varían levemente, el comportamiento general conserva y el caso más probable permanece siendo el mismo."
   ]
  }
 ],
 "metadata": {
  "kernelspec": {
   "display_name": "Python 3 (ipykernel)",
   "language": "python",
   "name": "python3"
  },
  "language_info": {
   "codemirror_mode": {
    "name": "ipython",
    "version": 3
   },
   "file_extension": ".py",
   "mimetype": "text/x-python",
   "name": "python",
   "nbconvert_exporter": "python",
   "pygments_lexer": "ipython3",
   "version": "3.9.12"
  }
 },
 "nbformat": 4,
 "nbformat_minor": 5
}
