{
 "cells": [
  {
   "cell_type": "code",
   "execution_count": 1,
   "id": "8c6e11d4",
   "metadata": {},
   "outputs": [],
   "source": [
    "import numpy as np\n",
    "import matplotlib.pyplot as plt"
   ]
  },
  {
   "cell_type": "code",
   "execution_count": 2,
   "id": "c89acd23",
   "metadata": {},
   "outputs": [],
   "source": [
    "b = np.array([[-3],[-3],[8],[9]])\n",
    "u1 = np.array([[3],[1],[0],[1]])\n",
    "u2 = np.array([[1],[2],[1],[1]])\n",
    "u3 = np.array([[-1],[0],[2],[-1]])"
   ]
  },
  {
   "cell_type": "code",
   "execution_count": 3,
   "id": "a079f16a",
   "metadata": {},
   "outputs": [
    {
     "data": {
      "text/plain": [
       "array([[-3],\n",
       "       [-3],\n",
       "       [ 8],\n",
       "       [ 9]])"
      ]
     },
     "execution_count": 3,
     "metadata": {},
     "output_type": "execute_result"
    }
   ],
   "source": [
    "b"
   ]
  },
  {
   "cell_type": "code",
   "execution_count": 4,
   "id": "9de20b63",
   "metadata": {},
   "outputs": [
    {
     "data": {
      "text/plain": [
       "array([[3],\n",
       "       [1],\n",
       "       [0],\n",
       "       [1]])"
      ]
     },
     "execution_count": 4,
     "metadata": {},
     "output_type": "execute_result"
    }
   ],
   "source": [
    "u1"
   ]
  },
  {
   "cell_type": "code",
   "execution_count": 5,
   "id": "728e79da",
   "metadata": {},
   "outputs": [
    {
     "data": {
      "text/plain": [
       "array([[1],\n",
       "       [2],\n",
       "       [1],\n",
       "       [1]])"
      ]
     },
     "execution_count": 5,
     "metadata": {},
     "output_type": "execute_result"
    }
   ],
   "source": [
    "u2"
   ]
  },
  {
   "cell_type": "code",
   "execution_count": 6,
   "id": "88cfa35d",
   "metadata": {},
   "outputs": [
    {
     "data": {
      "text/plain": [
       "array([[-1],\n",
       "       [ 0],\n",
       "       [ 2],\n",
       "       [-1]])"
      ]
     },
     "execution_count": 6,
     "metadata": {},
     "output_type": "execute_result"
    }
   ],
   "source": [
    "u3"
   ]
  },
  {
   "cell_type": "code",
   "execution_count": 7,
   "id": "b1d31a24",
   "metadata": {},
   "outputs": [],
   "source": [
    "A = np.zeros((4,3))\n",
    "A[:,0] = u1[:,0]\n",
    "A[:,1] = u2[:,0]\n",
    "A[:,2] = u3[:,0]"
   ]
  },
  {
   "cell_type": "code",
   "execution_count": 8,
   "id": "71327592",
   "metadata": {},
   "outputs": [
    {
     "data": {
      "text/plain": [
       "array([[ 3.,  1., -1.],\n",
       "       [ 1.,  2.,  0.],\n",
       "       [ 0.,  1.,  2.],\n",
       "       [ 1.,  1., -1.]])"
      ]
     },
     "execution_count": 8,
     "metadata": {},
     "output_type": "execute_result"
    }
   ],
   "source": [
    "A"
   ]
  },
  {
   "cell_type": "markdown",
   "id": "6dc5b09d",
   "metadata": {},
   "source": [
    "## a) MÍNIMOS CUADRADOS"
   ]
  },
  {
   "cell_type": "code",
   "execution_count": 9,
   "id": "ebfbb0b8",
   "metadata": {},
   "outputs": [],
   "source": [
    "def minCuad(A,B):\n",
    "    m,n = A.shape\n",
    "   \n",
    "    AtA = np.dot(A.T,A)\n",
    "    \n",
    "    AtB = np.dot(A.T,B)\n",
    "    \n",
    "    X = np.linalg.solve(AtA,AtB)\n",
    "    \n",
    "    D = np.dot(A,X)-B\n",
    "    \n",
    "    return X,D"
   ]
  },
  {
   "cell_type": "code",
   "execution_count": 10,
   "id": "efac69a8",
   "metadata": {},
   "outputs": [],
   "source": [
    "X,_ = minCuad(A,b)"
   ]
  },
  {
   "cell_type": "markdown",
   "id": "01a369c2",
   "metadata": {},
   "source": [
    "## Resultado sin redondear"
   ]
  },
  {
   "cell_type": "code",
   "execution_count": 11,
   "id": "972351a6",
   "metadata": {},
   "outputs": [
    {
     "data": {
      "text/plain": [
       "array([[-2.0000000e+00],\n",
       "       [ 3.0000000e+00],\n",
       "       [ 4.0000000e+00],\n",
       "       [-4.4408921e-16]])"
      ]
     },
     "execution_count": 11,
     "metadata": {},
     "output_type": "execute_result"
    }
   ],
   "source": [
    "p1b = np.dot(A,X)\n",
    "p1b"
   ]
  },
  {
   "cell_type": "markdown",
   "id": "3efaf6af",
   "metadata": {},
   "source": [
    "## Resultado redondeado"
   ]
  },
  {
   "cell_type": "code",
   "execution_count": 12,
   "id": "95b624e1",
   "metadata": {},
   "outputs": [
    {
     "data": {
      "text/plain": [
       "array([[-2.],\n",
       "       [ 3.],\n",
       "       [ 4.],\n",
       "       [-0.]])"
      ]
     },
     "execution_count": 12,
     "metadata": {},
     "output_type": "execute_result"
    }
   ],
   "source": [
    "rp1b = np.round(p1b,0)\n",
    "rp1b"
   ]
  },
  {
   "cell_type": "markdown",
   "id": "a80283d2",
   "metadata": {},
   "source": [
    "## b) GRAND-SCHMIDT"
   ]
  },
  {
   "cell_type": "code",
   "execution_count": 13,
   "id": "141ba2d3",
   "metadata": {},
   "outputs": [],
   "source": [
    "def GrandSchmidt(W,b):\n",
    "    m,n = W.shape\n",
    "    \n",
    "    V = np.zeros((m,n))\n",
    "    \n",
    "    for j in range(n):\n",
    "        e = W[:,j]\n",
    "        norm = np.linalg.norm(e)\n",
    "        v = e/norm\n",
    "        \n",
    "        for i in range(m):\n",
    "            V[i,j] = v[i]\n",
    "            \n",
    "    C = np.zeros((n))\n",
    "    \n",
    "    for i in range(n):\n",
    "        v = V[:,i]\n",
    "        C[i] = np.dot(b.T,v) \n",
    "        \n",
    "    pb = C[0]*V[:,0] + C[1]*V[:,1] + C[2]*V[:,2]\n",
    "    \n",
    "    return pb\n",
    "    "
   ]
  },
  {
   "cell_type": "code",
   "execution_count": 14,
   "id": "8d1917b9",
   "metadata": {},
   "outputs": [],
   "source": [
    "p2b = GrandSchmidt(A,b)"
   ]
  },
  {
   "cell_type": "code",
   "execution_count": 15,
   "id": "9126a575",
   "metadata": {},
   "outputs": [
    {
     "data": {
      "text/plain": [
       "array([-1.34199134,  2.01298701,  4.47619048, -0.7965368 ])"
      ]
     },
     "execution_count": 15,
     "metadata": {},
     "output_type": "execute_result"
    }
   ],
   "source": [
    "p2b"
   ]
  }
 ],
 "metadata": {
  "kernelspec": {
   "display_name": "Python 3 (ipykernel)",
   "language": "python",
   "name": "python3"
  },
  "language_info": {
   "codemirror_mode": {
    "name": "ipython",
    "version": 3
   },
   "file_extension": ".py",
   "mimetype": "text/x-python",
   "name": "python",
   "nbconvert_exporter": "python",
   "pygments_lexer": "ipython3",
   "version": "3.9.12"
  }
 },
 "nbformat": 4,
 "nbformat_minor": 5
}
