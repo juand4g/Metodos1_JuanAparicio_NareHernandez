{
 "cells": [
  {
   "cell_type": "code",
   "execution_count": null,
   "id": "596379cd",
   "metadata": {},
   "outputs": [],
   "source": [
    "%matplotlib notebook\n",
    "import matplotlib.pyplot as plt\n",
    "import numpy as np"
   ]
  },
  {
   "cell_type": "markdown",
   "id": "39c6f2c4",
   "metadata": {},
   "source": [
    "$$ x = Asin(\\omega_x t) $$\n",
    "$$ y = Asin(\\omega_y t + \\delta) $$"
   ]
  },
  {
   "cell_type": "code",
   "execution_count": null,
   "id": "17d383b8",
   "metadata": {},
   "outputs": [],
   "source": [
    "A = 1\n",
    "wx = wy = 1\n",
    "n = 5\n",
    "delta = [0, np.pi/4, np.pi/2]"
   ]
  }
 ],
 "metadata": {
  "kernelspec": {
   "display_name": "Python 3 (ipykernel)",
   "language": "python",
   "name": "python3"
  },
  "language_info": {
   "codemirror_mode": {
    "name": "ipython",
    "version": 3
   },
   "file_extension": ".py",
   "mimetype": "text/x-python",
   "name": "python",
   "nbconvert_exporter": "python",
   "pygments_lexer": "ipython3",
   "version": "3.9.12"
  }
 },
 "nbformat": 4,
 "nbformat_minor": 5
}
