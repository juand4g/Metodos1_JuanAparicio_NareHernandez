{
 "cells": [
  {
   "cell_type": "code",
   "execution_count": 1,
   "id": "8cdf1193",
   "metadata": {},
   "outputs": [],
   "source": [
    "def factorial(n: int):\n",
    "    '''Calcula el factorial de un número n.\n",
    "    '''\n",
    "    i = n\n",
    "    f = 1\n",
    "\n",
    "    while i != 1:\n",
    "        f *= i\n",
    "        i -= 1\n",
    "\n",
    "    return f\n",
    "\n",
    "def variacionesSinRep(n: int, r: int):\n",
    "    '''Calcula las variaciones sin repetición de n elementos de r en r.\n",
    "    '''\n",
    "    v = factorial(n)/factorial(n-r)\n",
    "\n",
    "    return v\n",
    "\n",
    "def combinacionesSinRep(n: int, m: int):\n",
    "    '''Calcula las combinaciones sin repetición de n elementos tomados en m.\n",
    "    '''\n",
    "    if n>m:\n",
    "        c = factorial(n)/(factorial(m)*factorial(n-m))\n",
    "        return c\n",
    "    else:\n",
    "        print (\"ERROR: n debe ser mayor a m.\")"
   ]
  },
  {
   "cell_type": "code",
   "execution_count": 2,
   "id": "da3676d3",
   "metadata": {},
   "outputs": [
    {
     "name": "stdout",
     "output_type": "stream",
     "text": [
      "1. PRIMEROS 20 NÚMEROS FACTORIALES\n",
      "1! = 1\n",
      "2! = 2\n",
      "3! = 6\n",
      "4! = 24\n",
      "5! = 120\n",
      "6! = 720\n",
      "7! = 5040\n",
      "8! = 40320\n",
      "9! = 362880\n",
      "10! = 3628800\n",
      "11! = 39916800\n",
      "12! = 479001600\n",
      "13! = 6227020800\n",
      "14! = 87178291200\n",
      "15! = 1307674368000\n",
      "16! = 20922789888000\n",
      "17! = 355687428096000\n",
      "18! = 6402373705728000\n",
      "19! = 121645100408832000\n",
      "20! = 2432902008176640000\n",
      "\n",
      "2.a) UBICAR 6 CARROS EN 3 ESTACIONAMIENTOS\n",
      "120.0\n",
      "\n",
      "3.a) CUALQUIERA PUEDE SER EL ARQUERO\n",
      "705432.0\n",
      "\n",
      "3.b) YA SE ESCOGIÓ EL ARQUERO\n",
      "352716.0\n"
     ]
    }
   ],
   "source": [
    "print (\"1. PRIMEROS 20 NÚMEROS FACTORIALES\")\n",
    "for n in range(1,21):\n",
    "    print(str(n)+\"! = \"+str(factorial(n)))\n",
    "\n",
    "print (\"\\n2.a) UBICAR 6 CARROS EN 3 ESTACIONAMIENTOS\")\n",
    "print(variacionesSinRep(6,3))\n",
    "\n",
    "print (\"\\n3.a) CUALQUIERA PUEDE SER EL ARQUERO\")\n",
    "print(combinacionesSinRep(22,11))\n",
    "\n",
    "print (\"\\n3.b) YA SE ESCOGIÓ EL ARQUERO\")\n",
    "print(combinacionesSinRep(21,10))"
   ]
  },
  {
   "cell_type": "code",
   "execution_count": null,
   "id": "9f5747ce",
   "metadata": {},
   "outputs": [],
   "source": []
  }
 ],
 "metadata": {
  "kernelspec": {
   "display_name": "Python 3 (ipykernel)",
   "language": "python",
   "name": "python3"
  },
  "language_info": {
   "codemirror_mode": {
    "name": "ipython",
    "version": 3
   },
   "file_extension": ".py",
   "mimetype": "text/x-python",
   "name": "python",
   "nbconvert_exporter": "python",
   "pygments_lexer": "ipython3",
   "version": "3.9.12"
  }
 },
 "nbformat": 4,
 "nbformat_minor": 5
}
