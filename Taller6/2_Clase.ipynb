{
 "cells": [
  {
   "cell_type": "code",
   "execution_count": 1,
   "id": "d5c4fc83",
   "metadata": {},
   "outputs": [],
   "source": [
    "import numpy as np"
   ]
  },
  {
   "cell_type": "code",
   "execution_count": 2,
   "id": "460fe80f",
   "metadata": {},
   "outputs": [],
   "source": [
    "class LinSystem():\n",
    "    matrix = None\n",
    "    vector = None\n",
    "    \n",
    "    def __init__(self,M,V):\n",
    "        self.matrix = M\n",
    "        self.vector = V\n",
    "        \n",
    "    def Jacobi(self,itmax=1000,error = 1e-10):\n",
    "        A = self.matrix\n",
    "        b = self.vector\n",
    "        \n",
    "        M,N = A.shape\n",
    "    \n",
    "        x = np.zeros(N)\n",
    "\n",
    "        sumk = np.zeros_like(x)\n",
    "\n",
    "        it = 0\n",
    "\n",
    "        residuo = np.linalg.norm( b - np.dot(A,x) )\n",
    "\n",
    "        while ( residuo > error and it < itmax ):\n",
    "\n",
    "            it += 1\n",
    "\n",
    "            for i in range(M):\n",
    "                sum_ = 0\n",
    "                for j in range(N):\n",
    "                    if i != j:\n",
    "                        sum_ += A[i][j]*x[j]\n",
    "                sumk[i] = sum_\n",
    "\n",
    "            for i in range(M):\n",
    "\n",
    "                if A[i,i] != 0:\n",
    "                    x[i] = (b[i] - sumk[i])/A[i,i]\n",
    "                else:\n",
    "                    print('No invertible con Jacobi')\n",
    "\n",
    "            residuo = np.linalg.norm( b - np.dot(A,x) )\n",
    "            \n",
    "        print(\"Se resolvió el sistema con un total de \", it, \" iteraciones.\")\n",
    "\n",
    "        return x,residuo\n",
    "    \n",
    "    def GausSeidel(self,itmax=1000,error = 1e-10):\n",
    "        A = self.matrix\n",
    "        b = self.vector\n",
    "        \n",
    "        M,N = A.shape\n",
    "    \n",
    "        x = np.zeros(N)\n",
    "        \n",
    "        it = 0\n",
    "\n",
    "        residuo = np.linalg.norm( b - np.dot(A,x) )\n",
    "\n",
    "        while ( residuo > error and it < itmax ):\n",
    "\n",
    "            it += 1\n",
    "            \n",
    "            x[0] = (1 + x[1] + x[2])/3\n",
    "            x[1] = (3 + x[0] - x[2])/3\n",
    "            x[2] = (7 - 2*x[0] - x[1])/4\n",
    "\n",
    "            residuo = np.linalg.norm( b - np.dot(A,x) )\n",
    "            \n",
    "        print(\"Se resolvió el sistema con un total de \", it, \" iteraciones.\")\n",
    "\n",
    "        return x,residuo\n",
    "        "
   ]
  },
  {
   "cell_type": "code",
   "execution_count": 3,
   "id": "b2416232",
   "metadata": {},
   "outputs": [],
   "source": [
    "M = np.array([[3,-1,-1],[-1.,3.,1.],[2,1,4]])\n",
    "b = np.array([1.,3.,7.])"
   ]
  },
  {
   "cell_type": "code",
   "execution_count": 4,
   "id": "f9472e06",
   "metadata": {},
   "outputs": [],
   "source": [
    "sis = LinSystem(M,b)"
   ]
  },
  {
   "cell_type": "code",
   "execution_count": 5,
   "id": "4ab66d54",
   "metadata": {},
   "outputs": [
    {
     "name": "stdout",
     "output_type": "stream",
     "text": [
      "Se resolvió el sistema con un total de  23  iteraciones.\n"
     ]
    },
    {
     "data": {
      "text/plain": [
       "array([1., 1., 1.])"
      ]
     },
     "execution_count": 5,
     "metadata": {},
     "output_type": "execute_result"
    }
   ],
   "source": [
    "X,error = sis.Jacobi()\n",
    "X"
   ]
  },
  {
   "cell_type": "code",
   "execution_count": 6,
   "id": "2dfcb8f2",
   "metadata": {},
   "outputs": [
    {
     "name": "stdout",
     "output_type": "stream",
     "text": [
      "Se resolvió el sistema con un total de  18  iteraciones.\n"
     ]
    },
    {
     "data": {
      "text/plain": [
       "array([1., 1., 1.])"
      ]
     },
     "execution_count": 6,
     "metadata": {},
     "output_type": "execute_result"
    }
   ],
   "source": [
    "Xs,errors = sis.GausSeidel()\n",
    "Xs"
   ]
  }
 ],
 "metadata": {
  "kernelspec": {
   "display_name": "Python 3 (ipykernel)",
   "language": "python",
   "name": "python3"
  },
  "language_info": {
   "codemirror_mode": {
    "name": "ipython",
    "version": 3
   },
   "file_extension": ".py",
   "mimetype": "text/x-python",
   "name": "python",
   "nbconvert_exporter": "python",
   "pygments_lexer": "ipython3",
   "version": "3.9.12"
  }
 },
 "nbformat": 4,
 "nbformat_minor": 5
}
