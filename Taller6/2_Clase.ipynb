{
 "cells": [
  {
   "cell_type": "code",
   "execution_count": 44,
   "id": "d5c4fc83",
   "metadata": {},
   "outputs": [],
   "source": [
    "import numpy as np"
   ]
  },
  {
   "cell_type": "code",
   "execution_count": 66,
   "id": "460fe80f",
   "metadata": {},
   "outputs": [],
   "source": [
    "class LinSystem():\n",
    "    matrix = None\n",
    "    vector = None\n",
    "    \n",
    "    def __init__(self,M,V):\n",
    "        self.matrix = M\n",
    "        self.vector = V\n",
    "        \n",
    "    def Jacobi(self,itmax=1000,error = 1e-10):\n",
    "        A = self.matrix\n",
    "        b = self.vector\n",
    "        \n",
    "        M,N = A.shape\n",
    "    \n",
    "        x = np.zeros(N)\n",
    "\n",
    "        sumk = np.zeros_like(x)\n",
    "\n",
    "        x = [13,20,-1]\n",
    "\n",
    "        it = 0\n",
    "\n",
    "        residuo = np.linalg.norm( b - np.dot(A,x) )\n",
    "\n",
    "        while ( residuo > error and it < itmax ):\n",
    "\n",
    "            it += 1\n",
    "\n",
    "            for i in range(M):\n",
    "                sum_ = 0\n",
    "                for j in range(N):\n",
    "                    if i != j:\n",
    "                        sum_ += A[i][j]*x[j]\n",
    "                sumk[i] = sum_\n",
    "\n",
    "            for i in range(M):\n",
    "\n",
    "                if A[i,i] != 0:\n",
    "                    x[i] = (b[i] - sumk[i])/A[i,i]\n",
    "                else:\n",
    "                    print('No invertible con Jacobi')\n",
    "\n",
    "            residuo = np.linalg.norm( b - np.dot(A,x) )\n",
    "            \n",
    "        print(\"Se resolvió el sistema con un total de \", it, \" iteraciones.\")\n",
    "\n",
    "        return x,residuo\n",
    "    \n",
    "    def GausSeidel(self,itmax=1000,error = 1e-10):\n",
    "        A = self.matrix\n",
    "        b = self.vector\n",
    "        \n",
    "        M,N = A.shape\n",
    "    \n",
    "        x = np.zeros(N)\n",
    "\n",
    "        sumk = np.zeros_like(x)\n",
    "        \n",
    "        it = 0\n",
    "\n",
    "        residuo = np.linalg.norm( b - np.dot(A,x) )\n",
    "\n",
    "        while ( residuo > error and it < itmax ):\n",
    "\n",
    "            it += 1\n",
    "\n",
    "            for i in range(M):\n",
    "                if i == 0:\n",
    "                    sumk[i] = (1 + sumk[1] + sumk[2])/3\n",
    "                elif i == 1:\n",
    "                    sumk[i] = (3 + sumk[0] - sumk[2])/3\n",
    "                elif i == 2:\n",
    "                    sumk[i] = (7 - 2*sumk[0] - sumk[1])/4\n",
    "\n",
    "            for i in range(M):\n",
    "\n",
    "                if A[i,i] != 0:\n",
    "                    x[i] = (b[i] - sumk[i])/A[i,i]\n",
    "                else:\n",
    "                    print('No invertible con GausSeidel')\n",
    "\n",
    "            residuo = np.linalg.norm( b - np.dot(A,x) )\n",
    "            \n",
    "        print(\"Se resolvió el sistema con un total de \", it, \" iteraciones.\")\n",
    "\n",
    "        return x,residuo\n",
    "        "
   ]
  },
  {
   "cell_type": "code",
   "execution_count": 67,
   "id": "b2416232",
   "metadata": {},
   "outputs": [
    {
     "name": "stdout",
     "output_type": "stream",
     "text": [
      "[[ 3. -1. -1.]\n",
      " [-1.  3.  1.]\n",
      " [ 2.  1.  4.]]\n",
      "[1. 3. 7.]\n"
     ]
    }
   ],
   "source": [
    "M = np.array([[3,-1,-1],[-1.,3.,1.],[2,1,4]])\n",
    "print(M)\n",
    "b = np.array([1.,3.,7.])\n",
    "print(b)"
   ]
  },
  {
   "cell_type": "code",
   "execution_count": 68,
   "id": "f9472e06",
   "metadata": {},
   "outputs": [],
   "source": [
    "sis = LinSystem(M,b)"
   ]
  },
  {
   "cell_type": "code",
   "execution_count": 69,
   "id": "4ab66d54",
   "metadata": {},
   "outputs": [
    {
     "name": "stdout",
     "output_type": "stream",
     "text": [
      "Se resolvió el sistema con un total de  26  iteraciones.\n"
     ]
    }
   ],
   "source": [
    "X,error = sis.Jacobi()"
   ]
  },
  {
   "cell_type": "code",
   "execution_count": 70,
   "id": "0f2cab4c",
   "metadata": {},
   "outputs": [
    {
     "data": {
      "text/plain": [
       "[1.0000000000012628, 1.0000000000109328, 0.9999999999902489]"
      ]
     },
     "execution_count": 70,
     "metadata": {},
     "output_type": "execute_result"
    }
   ],
   "source": [
    "X"
   ]
  },
  {
   "cell_type": "code",
   "execution_count": 71,
   "id": "2dfcb8f2",
   "metadata": {},
   "outputs": [
    {
     "name": "stdout",
     "output_type": "stream",
     "text": [
      "Se resolvió el sistema con un total de  1000  iteraciones.\n"
     ]
    }
   ],
   "source": [
    "Xs,errors = sis.GausSeidel()"
   ]
  },
  {
   "cell_type": "code",
   "execution_count": 72,
   "id": "d5c735fa",
   "metadata": {},
   "outputs": [
    {
     "data": {
      "text/plain": [
       "array([0.        , 0.66666667, 1.5       ])"
      ]
     },
     "execution_count": 72,
     "metadata": {},
     "output_type": "execute_result"
    }
   ],
   "source": [
    "Xs"
   ]
  },
  {
   "cell_type": "code",
   "execution_count": null,
   "id": "a786229f",
   "metadata": {},
   "outputs": [],
   "source": []
  }
 ],
 "metadata": {
  "kernelspec": {
   "display_name": "Python 3 (ipykernel)",
   "language": "python",
   "name": "python3"
  },
  "language_info": {
   "codemirror_mode": {
    "name": "ipython",
    "version": 3
   },
   "file_extension": ".py",
   "mimetype": "text/x-python",
   "name": "python",
   "nbconvert_exporter": "python",
   "pygments_lexer": "ipython3",
   "version": "3.9.12"
  }
 },
 "nbformat": 4,
 "nbformat_minor": 5
}
