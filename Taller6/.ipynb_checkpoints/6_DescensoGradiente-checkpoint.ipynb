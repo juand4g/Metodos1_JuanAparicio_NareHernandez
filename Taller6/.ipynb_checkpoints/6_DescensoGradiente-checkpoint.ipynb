{
 "cells": [
  {
   "cell_type": "code",
   "execution_count": 1,
   "id": "ee10016b",
   "metadata": {},
   "outputs": [],
   "source": [
    "import numpy as np\n",
    "import matplotlib.pyplot as plt\n",
    "from IPython.display import clear_output\n",
    "import time"
   ]
  },
  {
   "cell_type": "code",
   "execution_count": 2,
   "id": "3b2c8f01",
   "metadata": {},
   "outputs": [],
   "source": [
    "def GetVectorF(G,r):   \n",
    "    dim = len(G)\n",
    "    \n",
    "    v = np.zeros(dim)\n",
    "    \n",
    "    if dim == 3:\n",
    "        for i in range(dim):\n",
    "            v[i] = G[i](r[0],r[1],r[2])\n",
    "    if dim == 2:\n",
    "        for i in range(dim):\n",
    "            v[i] = G[i](r[0],r[1])\n",
    "        \n",
    "    return v"
   ]
  },
  {
   "cell_type": "code",
   "execution_count": 3,
   "id": "246241f8",
   "metadata": {},
   "outputs": [],
   "source": [
    "def GetJacobian(G,r,h=1e-6):\n",
    "    \n",
    "    dim = len(G)\n",
    "    \n",
    "    J = np.zeros((dim,dim))\n",
    "    \n",
    "    if dim == 3:\n",
    "        for i in range(dim):\n",
    "            J[i,0] = (  G[i](r[0]+h,r[1],r[2]) - G[i](r[0]-h,r[1],r[2]) )/(2*h)\n",
    "            J[i,1] = (  G[i](r[0],r[1]+h,r[2]) - G[i](r[0],r[1]-h,r[2]) )/(2*h)\n",
    "            J[i,2] = (  G[i](r[0],r[1],r[2]+h) - G[i](r[0],r[1],r[2]-h) )/(2*h)\n",
    "            \n",
    "    elif dim == 2:\n",
    "        for i in range(dim):\n",
    "            J[i,0] = (  G[i](r[0]+h,r[1]) - G[i](r[0]-h,r[1]) )/(2*h)\n",
    "            J[i,1] = (  G[i](r[0],r[1]+h) - G[i](r[0],r[1]-h) )/(2*h)\n",
    "        \n",
    "    return J.T"
   ]
  },
  {
   "cell_type": "code",
   "execution_count": 4,
   "id": "ea2c7503",
   "metadata": {},
   "outputs": [],
   "source": [
    "def GetMetric(G,r):\n",
    "    v = GetVectorF(G,r)\n",
    "    return 0.5*np.linalg.norm(v)**2"
   ]
  },
  {
   "cell_type": "code",
   "execution_count": 5,
   "id": "6822f510",
   "metadata": {},
   "outputs": [],
   "source": [
    "def GetFig(F,R,it):\n",
    "    M,N = R.shape\n",
    "    \n",
    "    fig = plt.figure(figsize=(8,4))\n",
    "    \n",
    "    if N == 3:\n",
    "        labels = ['X','Y','Z']\n",
    "    elif N == 2:\n",
    "        labels = [\"X\",\"Y\"]\n",
    "    \n",
    "    ax = fig.add_subplot(1,2,1)\n",
    "    ax1 = fig.add_subplot(1,2,2)\n",
    "\n",
    "    ax.set_title('Metric: %.20f' %(F[it]))\n",
    "\n",
    "    ax.plot(F[:it])\n",
    "    ax.set_xlabel('%.0f' %(it))\n",
    "    ax.set_yscale('log')\n",
    "    ax1.plot(R[:it],label=labels)\n",
    "    ax1.set_xlabel('%.0f' %(it))\n",
    "    ax1.legend(loc=0)\n",
    "    \n",
    "    plt.show()"
   ]
  },
  {
   "cell_type": "code",
   "execution_count": 6,
   "id": "22228011",
   "metadata": {},
   "outputs": [],
   "source": [
    "def GetSolve(G,r,lr=1e-3,epochs=int(1e5),error=1e-7):\n",
    "    \n",
    "    d = 1\n",
    "    it = 0\n",
    "    Vector_F = np.array([])\n",
    "    \n",
    "    R_vector = np.array(r)\n",
    "    \n",
    "    while d > error and it < epochs:\n",
    "        \n",
    "        CurrentF = GetMetric(G,r)\n",
    "        \n",
    "        J = GetJacobian(G,r)\n",
    "        \n",
    "        GVector = GetVectorF(G,r)\n",
    "        \n",
    "        #Machine Learning\n",
    "        r -= lr*np.dot(J,GVector) \n",
    "        \n",
    "        R_vector = np.vstack((R_vector,r))\n",
    "        \n",
    "        NewF = GetMetric(G,r)\n",
    "        \n",
    "        \n",
    "        Vector_F = np.append(Vector_F,NewF)\n",
    "        \n",
    "        d = np.abs( CurrentF - NewF )/NewF\n",
    "        \n",
    "        \n",
    "        if it%500 == 0:\n",
    "            \n",
    "            clear_output(wait=True)\n",
    "            GetFig(Vector_F,R_vector,it)\n",
    "            time.sleep(0.01)\n",
    "            \n",
    "        it += 1\n",
    "        \n",
    "    if d < error:\n",
    "        print(' Entrenamiento completo ', d, 'iteraciones', it)\n",
    "        \n",
    "    if it == epochs:\n",
    "        print(' Entrenamiento no completado ')\n",
    "        \n",
    "    return r,it,Vector_F,R_vector"
   ]
  },
  {
   "cell_type": "code",
   "execution_count": 7,
   "id": "d1e347d1",
   "metadata": {},
   "outputs": [],
   "source": [
    "def NewtonRaphson(G,r,error=1e-14):\n",
    "    \n",
    "    it = 0\n",
    "    d = 1\n",
    "    Vector_d = np.array([])\n",
    "    \n",
    "    while d > error:\n",
    "        \n",
    "        it += 1\n",
    "        \n",
    "        rc = r\n",
    "        \n",
    "        F = GetVectorF(G,r)\n",
    "        J = GetJacobian(G,r)\n",
    "        InvJ = np.linalg.inv(J)\n",
    "        \n",
    "        r = rc - np.dot( InvJ, F )\n",
    "        \n",
    "        diff = r - rc\n",
    "        \n",
    "        d = np.linalg.norm(diff)\n",
    "        \n",
    "        Vector_d = np.append( Vector_d , d )\n",
    "        \n",
    "    return r,it"
   ]
  },
  {
   "cell_type": "markdown",
   "id": "f0c3a3db",
   "metadata": {},
   "source": [
    "<h1><center>PRIMER SISTEMA DE ECUACIONES</center></h1>\n",
    "$$ ln(x^2+y^2)-sin(xy)-ln(2)-ln(\\pi)=0 $$\n",
    "$$ e^{x-y}+cos(xy)=0 $$"
   ]
  },
  {
   "cell_type": "code",
   "execution_count": 8,
   "id": "6f7f1b60",
   "metadata": {},
   "outputs": [],
   "source": [
    "S1=(lambda x,y: np.log(x**2 + y**2) - np.sin(x*y)- np.log(2) - np.log(np.pi), \\\n",
    "   lambda x,y: np.e**(x-y) + np.cos(x*y) )\n",
    "\n",
    "x0 = (2,2)"
   ]
  },
  {
   "cell_type": "code",
   "execution_count": 9,
   "id": "48e79fde",
   "metadata": {},
   "outputs": [
    {
     "data": {
      "image/png": "[encoded data removed]",
      "text/plain": [
       "<Figure size 576x288 with 2 Axes>"
      ]
     },
     "metadata": {
      "needs_background": "light"
     },
     "output_type": "display_data"
    },
    {
     "name": "stdout",
     "output_type": "stream",
     "text": [
      " Entrenamiento completo  0.0 iteraciones 1431\n"
     ]
    }
   ],
   "source": [
    "x1grad,it1,F1,R1 = GetSolve(S1,x0,lr=1e-2)"
   ]
  },
  {
   "cell_type": "code",
   "execution_count": 10,
   "id": "8bc9f57b",
   "metadata": {},
   "outputs": [
    {
     "data": {
      "text/plain": [
       "array([1.77245385, 1.77245385])"
      ]
     },
     "execution_count": 10,
     "metadata": {},
     "output_type": "execute_result"
    }
   ],
   "source": [
    "#SOLUCIÓN CON DESCENSO DEL GRADIENTE\n",
    "x1grad"
   ]
  },
  {
   "cell_type": "code",
   "execution_count": 11,
   "id": "96610c25",
   "metadata": {},
   "outputs": [
    {
     "data": {
      "text/plain": [
       "array([-2.22044605e-16, -1.04360964e-14])"
      ]
     },
     "execution_count": 11,
     "metadata": {},
     "output_type": "execute_result"
    }
   ],
   "source": [
    "#RESULTADO DEL SISTEMA DE ECUACIONES CON DESCENSO DEL GRADIENTE\n",
    "GetVectorF(S1,x1grad)"
   ]
  },
  {
   "cell_type": "code",
   "execution_count": 12,
   "id": "dd0b7aea",
   "metadata": {},
   "outputs": [
    {
     "data": {
      "text/plain": [
       "array([1.77245385, 1.77245385])"
      ]
     },
     "execution_count": 12,
     "metadata": {},
     "output_type": "execute_result"
    }
   ],
   "source": [
    "#SOLUCIÓN CON NEWTON RAPHSON\n",
    "x1newton,it1 = NewtonRaphson(S1,x0)\n",
    "x1newton"
   ]
  },
  {
   "cell_type": "code",
   "execution_count": 13,
   "id": "22584a3f",
   "metadata": {},
   "outputs": [
    {
     "name": "stdout",
     "output_type": "stream",
     "text": [
      "Iteraciones:  162\n"
     ]
    }
   ],
   "source": [
    "print(\"Iteraciones: \",it1)"
   ]
  },
  {
   "cell_type": "code",
   "execution_count": 14,
   "id": "d3b9cc43",
   "metadata": {},
   "outputs": [
    {
     "data": {
      "text/plain": [
       "array([ 1.08801856e-14, -2.88657986e-15])"
      ]
     },
     "execution_count": 14,
     "metadata": {},
     "output_type": "execute_result"
    }
   ],
   "source": [
    "#RESULTADO DEL SISTEMA DE ECUACIONES CON NEWTON RAPHSON\n",
    "GetVectorF(S1,x1newton)"
   ]
  },
  {
   "cell_type": "markdown",
   "id": "78a0c471",
   "metadata": {},
   "source": [
    "<h2><center>SEGUNDO SISTEMA DE ECUACIONES</center></h2>\n",
    "$$ 6x-2cos(yz)-1=0 $$\n",
    "$$ 9y+\\sqrt{x^2+sin(z)+1.06}+0.9=0 $$\n",
    "$$ 60z+3e^{-xy}+10\\pi-3=0 $$"
   ]
  },
  {
   "cell_type": "code",
   "execution_count": 15,
   "id": "750d301c",
   "metadata": {},
   "outputs": [],
   "source": [
    "S2=(lambda x,y,z: 6*x - 2*np.cos(y*z) - 1, \\\n",
    "   lambda x,y,z: 9*y + np.sqrt(x**2 + np.sin(z) + 1.06) + 0.9 , \\\n",
    "   lambda x,y,z: 60*z + 3*np.e**(-x*y) + 10*np.pi -3 )\n",
    "\n",
    "x_0 = (0,0,0)"
   ]
  },
  {
   "cell_type": "code",
   "execution_count": 16,
   "id": "ec743e10",
   "metadata": {},
   "outputs": [
    {
     "data": {
      "image/png": "[encoded data removed]",
      "text/plain": [
       "<Figure size 576x288 with 2 Axes>"
      ]
     },
     "metadata": {
      "needs_background": "light"
     },
     "output_type": "display_data"
    },
    {
     "name": "stdout",
     "output_type": "stream",
     "text": [
      " Entrenamiento completo  0.0 iteraciones 8536\n"
     ]
    }
   ],
   "source": [
    "x2grad,it2,F2,R2 = GetSolve(S2,x_0,lr=1e-4)"
   ]
  },
  {
   "cell_type": "code",
   "execution_count": 17,
   "id": "2b9afa2d",
   "metadata": {},
   "outputs": [
    {
     "data": {
      "text/plain": [
       "array([ 0.49814468, -0.1996059 , -0.52882598])"
      ]
     },
     "execution_count": 17,
     "metadata": {},
     "output_type": "execute_result"
    }
   ],
   "source": [
    "#SOLUCIÓN CON DESCENSO DEL GRADIENTE\n",
    "x2grad"
   ]
  },
  {
   "cell_type": "code",
   "execution_count": 18,
   "id": "d1eee8f7",
   "metadata": {},
   "outputs": [
    {
     "data": {
      "text/plain": [
       "array([-1.39444012e-13,  1.44328993e-14,  7.10542736e-15])"
      ]
     },
     "execution_count": 18,
     "metadata": {},
     "output_type": "execute_result"
    }
   ],
   "source": [
    "#RESULTADO DEL SISTEMA DE ECUACIONES CON DESCENSO DEL GRADIENTE\n",
    "GetVectorF(S2,x2grad)"
   ]
  },
  {
   "cell_type": "code",
   "execution_count": 19,
   "id": "a77f7deb",
   "metadata": {},
   "outputs": [
    {
     "data": {
      "text/plain": [
       "array([ 0.49814468, -0.1996059 , -0.52882598])"
      ]
     },
     "execution_count": 19,
     "metadata": {},
     "output_type": "execute_result"
    }
   ],
   "source": [
    "#SOLUCIÓN CON NEWTON RAPHSON\n",
    "x2newton,it2 = NewtonRaphson(S2,x_0)\n",
    "x2newton"
   ]
  },
  {
   "cell_type": "code",
   "execution_count": 20,
   "id": "dc8e30d5",
   "metadata": {},
   "outputs": [
    {
     "name": "stdout",
     "output_type": "stream",
     "text": [
      "Iteraciones:  16\n"
     ]
    }
   ],
   "source": [
    "print(\"Iteraciones: \",it2)"
   ]
  },
  {
   "cell_type": "code",
   "execution_count": 21,
   "id": "d03342fb",
   "metadata": {},
   "outputs": [
    {
     "data": {
      "text/plain": [
       "array([-5.10702591e-15,  1.16573418e-14, -7.10542736e-15])"
      ]
     },
     "execution_count": 21,
     "metadata": {},
     "output_type": "execute_result"
    }
   ],
   "source": [
    "#RESULTADO DEL SISTEMA DE ECUACIONES CON NEWTON RAPHSON\n",
    "GetVectorF(S2,x2newton)"
   ]
  }
 ],
 "metadata": {
  "kernelspec": {
   "display_name": "Python 3 (ipykernel)",
   "language": "python",
   "name": "python3"
  },
  "language_info": {
   "codemirror_mode": {
    "name": "ipython",
    "version": 3
   },
   "file_extension": ".py",
   "mimetype": "text/x-python",
   "name": "python",
   "nbconvert_exporter": "python",
   "pygments_lexer": "ipython3",
   "version": "3.9.12"
  }
 },
 "nbformat": 4,
 "nbformat_minor": 5
}
