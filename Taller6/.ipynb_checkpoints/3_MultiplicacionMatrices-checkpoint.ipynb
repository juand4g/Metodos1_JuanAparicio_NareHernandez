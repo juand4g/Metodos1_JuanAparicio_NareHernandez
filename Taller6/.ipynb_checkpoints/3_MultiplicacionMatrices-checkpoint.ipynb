{
 "cells": [
  {
   "cell_type": "code",
   "execution_count": 1,
   "id": "b68c918a",
   "metadata": {},
   "outputs": [],
   "source": [
    "import numpy as np"
   ]
  },
  {
   "cell_type": "code",
   "execution_count": 2,
   "id": "774d7c86",
   "metadata": {},
   "outputs": [],
   "source": [
    "def Multiplicate(A,B):\n",
    "    M,N = A.shape\n",
    "    H,L = B.shape\n",
    "    \n",
    "    AB = np.zeros((M,L))\n",
    "    \n",
    "    if M==L:\n",
    "        for i in range(M): \n",
    "            for j in range(L):\n",
    "                sum = 0 \n",
    "                for k in range(N): \n",
    "                    sum += A[i,k]*B[k,j]\n",
    "                AB[i,j] = sum\n",
    "                \n",
    "    else:\n",
    "        print(\"Las matrices no se pueden multiplicar.\")\n",
    "        \n",
    "    return AB"
   ]
  },
  {
   "cell_type": "code",
   "execution_count": 3,
   "id": "c7d2429a",
   "metadata": {},
   "outputs": [
    {
     "data": {
      "text/plain": [
       "array([[ 1,  0,  0],\n",
       "       [ 5,  1,  0],\n",
       "       [-2,  3,  1]])"
      ]
     },
     "execution_count": 3,
     "metadata": {},
     "output_type": "execute_result"
    }
   ],
   "source": [
    "A=np.array([[1,0,0],[5,1,0],[-2,3,1]])\n",
    "B=np.array([[4,-2,1],[0,3,7],[0,0,2]])\n",
    "A"
   ]
  },
  {
   "cell_type": "code",
   "execution_count": 4,
   "id": "e1946ab6",
   "metadata": {},
   "outputs": [
    {
     "data": {
      "text/plain": [
       "array([[ 4, -2,  1],\n",
       "       [ 0,  3,  7],\n",
       "       [ 0,  0,  2]])"
      ]
     },
     "execution_count": 4,
     "metadata": {},
     "output_type": "execute_result"
    }
   ],
   "source": [
    "B"
   ]
  },
  {
   "cell_type": "code",
   "execution_count": 5,
   "id": "b3049f41",
   "metadata": {},
   "outputs": [
    {
     "data": {
      "text/plain": [
       "array([[ 4., -2.,  1.],\n",
       "       [20., -7., 12.],\n",
       "       [-8., 13., 21.]])"
      ]
     },
     "execution_count": 5,
     "metadata": {},
     "output_type": "execute_result"
    }
   ],
   "source": [
    "Multiplicate(A,B)"
   ]
  }
 ],
 "metadata": {
  "kernelspec": {
   "display_name": "Python 3 (ipykernel)",
   "language": "python",
   "name": "python3"
  },
  "language_info": {
   "codemirror_mode": {
    "name": "ipython",
    "version": 3
   },
   "file_extension": ".py",
   "mimetype": "text/x-python",
   "name": "python",
   "nbconvert_exporter": "python",
   "pygments_lexer": "ipython3",
   "version": "3.9.12"
  }
 },
 "nbformat": 4,
 "nbformat_minor": 5
}
