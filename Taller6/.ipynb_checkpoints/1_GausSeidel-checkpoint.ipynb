{
 "cells": [
  {
   "cell_type": "code",
   "execution_count": 1,
   "id": "be0b6b97",
   "metadata": {},
   "outputs": [],
   "source": [
    "import numpy as np"
   ]
  },
  {
   "cell_type": "code",
   "execution_count": 2,
   "id": "ae8f3f2a",
   "metadata": {},
   "outputs": [],
   "source": [
    "def GausSeidel(A,b,itmax=1000,error = 1e-10):        \n",
    "        M,N = A.shape\n",
    "    \n",
    "        x = np.zeros(N)\n",
    "        \n",
    "        it = 0\n",
    "\n",
    "        residuo = np.linalg.norm( b - np.dot(A,x) )\n",
    "\n",
    "        while ( residuo > error and it < itmax ):\n",
    "\n",
    "            it += 1\n",
    "            \n",
    "            x[0] = (1 + x[1] + x[2])/3\n",
    "            x[1] = (3 + x[0] - x[2])/3\n",
    "            x[2] = (7 - 2*x[0] - x[1])/4\n",
    "\n",
    "            residuo = np.linalg.norm( b - np.dot(A,x) )\n",
    "            \n",
    "        print(\"Se resolvió el sistema con un total de \", it, \" iteraciones.\")\n",
    "\n",
    "        return x,residuo"
   ]
  },
  {
   "cell_type": "code",
   "execution_count": 3,
   "id": "a50d9d43",
   "metadata": {},
   "outputs": [],
   "source": [
    "M = np.array([[3,-1,-1],[-1.,3.,1.],[2,1,4]])\n",
    "b = np.array([1.,3.,7.])"
   ]
  },
  {
   "cell_type": "code",
   "execution_count": 4,
   "id": "307cc7a5",
   "metadata": {},
   "outputs": [
    {
     "name": "stdout",
     "output_type": "stream",
     "text": [
      "Se resolvió el sistema con un total de  18  iteraciones.\n"
     ]
    },
    {
     "data": {
      "text/plain": [
       "array([1., 1., 1.])"
      ]
     },
     "execution_count": 4,
     "metadata": {},
     "output_type": "execute_result"
    }
   ],
   "source": [
    "X,error=GausSeidel(M,b)\n",
    "X"
   ]
  }
 ],
 "metadata": {
  "kernelspec": {
   "display_name": "Python 3 (ipykernel)",
   "language": "python",
   "name": "python3"
  },
  "language_info": {
   "codemirror_mode": {
    "name": "ipython",
    "version": 3
   },
   "file_extension": ".py",
   "mimetype": "text/x-python",
   "name": "python",
   "nbconvert_exporter": "python",
   "pygments_lexer": "ipython3",
   "version": "3.9.12"
  }
 },
 "nbformat": 4,
 "nbformat_minor": 5
}
