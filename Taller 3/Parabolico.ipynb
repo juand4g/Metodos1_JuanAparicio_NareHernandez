{
 "cells": [
  {
   "cell_type": "code",
   "execution_count": 2,
   "metadata": {},
   "outputs": [],
   "source": [
    "import numpy as np\n",
    "import pandas as pd\n",
    "import sympy as sym\n",
    "import wget"
   ]
  },
  {
   "cell_type": "code",
   "execution_count": 3,
   "metadata": {},
   "outputs": [
    {
     "name": "stdout",
     "output_type": "stream",
     "text": [
      "Parabolico.csv\n"
     ]
    }
   ],
   "source": [
    "archivo = wget.download(\"https://raw.githubusercontent.com/asegura4488/Database/main/MetodosComputacionalesReforma/Parabolico.csv\")\n",
    "print (archivo)"
   ]
  },
  {
   "cell_type": "code",
   "execution_count": 5,
   "metadata": {},
   "outputs": [
    {
     "name": "stdout",
     "output_type": "stream",
     "text": [
      "     X         Y\n",
      "0  1.4  0.400795\n",
      "1  3.5  0.594128\n",
      "2  5.6  0.298028\n"
     ]
    }
   ],
   "source": [
    "Datos = pd.read_csv(archivo,sep=\",\")\n",
    "print(Datos)"
   ]
  },
  {
   "cell_type": "code",
   "execution_count": 6,
   "metadata": {},
   "outputs": [
    {
     "name": "stdout",
     "output_type": "stream",
     "text": [
      "[1.4 3.5 5.6]\n"
     ]
    }
   ],
   "source": [
    "X = np.float64(Datos['X'])\n",
    "print(X)"
   ]
  },
  {
   "cell_type": "code",
   "execution_count": 7,
   "metadata": {},
   "outputs": [
    {
     "name": "stdout",
     "output_type": "stream",
     "text": [
      "[0.40079549 0.5941281  0.29802796]\n"
     ]
    }
   ],
   "source": [
    "Y= np.float64(Datos['Y'])\n",
    "print(Y)"
   ]
  },
  {
   "cell_type": "code",
   "execution_count": 9,
   "metadata": {},
   "outputs": [],
   "source": [
    "def Lagrange(x,xo,j):\n",
    "    \n",
    "    prod = 1.0\n",
    "    n = len(xo)\n",
    "    \n",
    "    for i in range(n):\n",
    "        if i != j:\n",
    "            prod *= (x - xo[i])/(xo[j]-xo[i])\n",
    "            \n",
    "    return prod\n",
    "    "
   ]
  },
  {
   "cell_type": "code",
   "execution_count": 16,
   "metadata": {},
   "outputs": [],
   "source": [
    "def Polinomio(x,xo,yo):\n",
    "    \n",
    "    Sum = 0.0\n",
    "    n = len(xo)\n",
    "    \n",
    "    for j in range(n):\n",
    "        Sum += yo[j]*Lagrange(x,xo,j)\n",
    "    return (Sum)"
   ]
  },
  {
   "cell_type": "code",
   "execution_count": 23,
   "metadata": {},
   "outputs": [
    {
     "data": {
      "text/latex": [
       "$\\displaystyle - 0.0554912422401579 x^{2} + 0.363970234266202 x + 2.22044604925031 \\cdot 10^{-16}$"
      ],
      "text/plain": [
       "-0.0554912422401579*x**2 + 0.363970234266202*x + 2.22044604925031e-16"
      ]
     },
     "execution_count": 23,
     "metadata": {},
     "output_type": "execute_result"
    }
   ],
   "source": [
    "x = sym.Symbol('x',Real=True)\n",
    "a= Polinomio(x, X,Y)\n",
    "a= sym.expand(a)\n",
    "a"
   ]
  },
  {
   "cell_type": "code",
   "execution_count": 18,
   "metadata": {},
   "outputs": [
    {
     "name": "stdout",
     "output_type": "stream",
     "text": [
      "19.999999999999982\n",
      "10.0\n"
     ]
    }
   ],
   "source": [
    "#Del movimiento parabólico tenemos: Y= 0.5gt**(2) + Voyt + Yo y X= Voxt, si ponemos Y en función de X, Y= (0.5gVox**(-2))x**2 + tanθx + Yo\n",
    "#Comparando los términos lineales y cuadráticos, del lineal obtenemos theta usando la función arcotangente.\n",
    "#Teniendo el ángulo, ahora del término cuadrático podemos calcular Vo\n",
    "thetha= (np.arctan(0.363970234266202))*((180)/np.pi)\n",
    "print(thetha)\n",
    "\n",
    "Vo=np.sqrt(-(9.8)/(2*-0.0554912422401579*np.cos(thetha*(np.pi/180))*np.cos(thetha*(np.pi/180))))\n",
    "print(Vo)"
   ]
  },
  {
   "cell_type": "code",
   "execution_count": null,
   "metadata": {},
   "outputs": [],
   "source": []
  }
 ],
 "metadata": {
  "kernelspec": {
   "display_name": "Python 3",
   "language": "python",
   "name": "python3"
  },
  "language_info": {
   "codemirror_mode": {
    "name": "ipython",
    "version": 3
   },
   "file_extension": ".py",
   "mimetype": "text/x-python",
   "name": "python",
   "nbconvert_exporter": "python",
   "pygments_lexer": "ipython3",
   "version": "3.8.5"
  }
 },
 "nbformat": 4,
 "nbformat_minor": 4
}
