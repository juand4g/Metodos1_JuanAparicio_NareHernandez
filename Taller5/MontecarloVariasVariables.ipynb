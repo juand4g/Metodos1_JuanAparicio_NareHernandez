{
 "cells": [
  {
   "cell_type": "code",
   "execution_count": 127,
   "metadata": {},
   "outputs": [],
   "source": [
    "%matplotlib notebook\n",
    "import matplotlib.pyplot as plt\n",
    "import numpy as np\n",
    "N=10000000"
   ]
  },
  {
   "cell_type": "code",
   "execution_count": 123,
   "metadata": {},
   "outputs": [],
   "source": [
    "X1 = np.random.uniform(0,1,10000000)\n",
    "X2 = np.random.uniform(0,1,10000000)\n",
    "X3 = np.random.uniform(0,1,10000000)\n",
    "X4 = np.random.uniform(0,1,10000000)\n",
    "X5 = np.random.uniform(0,1,10000000)\n",
    "X6 = np.random.uniform(0,1,10000000)\n",
    "X7 = np.random.uniform(0,1,10000000)\n",
    "X8 = np.random.uniform(0,1,10000000)\n",
    "\n",
    "    \n",
    "\n",
    "\n"
   ]
  },
  {
   "cell_type": "code",
   "execution_count": 124,
   "metadata": {},
   "outputs": [
    {
     "data": {
      "text/plain": [
       "0.125"
      ]
     },
     "execution_count": 124,
     "metadata": {},
     "output_type": "execute_result"
    }
   ],
   "source": [
    "def f(x1, x2, x3, x4, x5, x6, x7, x8):\n",
    "    ff = (2**-7)*((x1 + x2 + x3 + x4 +x5 +x6 +x7 +x8)**2)\n",
    "    return ff\n",
    "f(1,0,1,0,1,0,1,0)"
   ]
  },
  {
   "cell_type": "code",
   "execution_count": 126,
   "metadata": {},
   "outputs": [
    {
     "data": {
      "text/plain": [
       "0.13021423970716003"
      ]
     },
     "execution_count": 126,
     "metadata": {},
     "output_type": "execute_result"
    }
   ],
   "source": [
    "sample = np.zeros(10000000)\n",
    "\n",
    "for i in range(10000000):\n",
    "    sample[i]=f(X1[i],X2[i],X3[i],X4[i],X5[i],X6[i],X7[i],X8[i])\n",
    "\n",
    "Integral = np.average(sample)\n",
    "Integral\n"
   ]
  },
  {
   "cell_type": "code",
   "execution_count": null,
   "metadata": {},
   "outputs": [],
   "source": []
  },
  {
   "cell_type": "code",
   "execution_count": null,
   "metadata": {},
   "outputs": [],
   "source": []
  }
 ],
 "metadata": {
  "kernelspec": {
   "display_name": "Python 3",
   "language": "python",
   "name": "python3"
  },
  "language_info": {
   "codemirror_mode": {
    "name": "ipython",
    "version": 3
   },
   "file_extension": ".py",
   "mimetype": "text/x-python",
   "name": "python",
   "nbconvert_exporter": "python",
   "pygments_lexer": "ipython3",
   "version": "3.8.5"
  }
 },
 "nbformat": 4,
 "nbformat_minor": 4
}
